{
 "cells": [
  {
   "cell_type": "code",
   "execution_count": 1,
   "id": "bfebef10",
   "metadata": {},
   "outputs": [],
   "source": [
    "# this notebook starts as duplicate of cust_analysis_4\n",
    "# Lab results appended at bottom of cust_analysis_3 THIS TIME WITH MARKDOWN"
   ]
  },
  {
   "cell_type": "code",
   "execution_count": 2,
   "id": "d4f86247",
   "metadata": {},
   "outputs": [
    {
     "name": "stdout",
     "output_type": "stream",
     "text": [
      "DF Customers: (9134, 24)\n"
     ]
    }
   ],
   "source": [
    "# 1. Show the dataframe shape.\n",
    "import pandas as pd\n",
    "customers = pd.DataFrame(pd.read_csv('marketing_customer_analysis.csv'))\n",
    "print('DF Customers:', customers.shape)"
   ]
  },
  {
   "cell_type": "code",
   "execution_count": 3,
   "id": "a6ac0834",
   "metadata": {},
   "outputs": [
    {
     "data": {
      "text/plain": [
       "Index(['Customer', 'State', 'Customer_Lifetime_Value', 'Response', 'Coverage',\n",
       "       'Education', 'Effective_To_Date', 'Employment_Status', 'Gender',\n",
       "       'Income', 'Location_Code', 'Marital_Status', 'Monthly_Premium_Auto',\n",
       "       'Months_Since_Last_Claim', 'Months_Since_Policy_Inception',\n",
       "       'Number_of_Open_Complaints', 'Number_of_Policies', 'Policy_Type',\n",
       "       'Policy', 'Renew_Offer_Type', 'Sales_Channel', 'Total_Claim_Amount',\n",
       "       'Vehicle_Class', 'Vehicle_Size'],\n",
       "      dtype='object')"
      ]
     },
     "execution_count": 3,
     "metadata": {},
     "output_type": "execute_result"
    }
   ],
   "source": [
    "# 2. Standardize header names.\n",
    "customers.columns = customers.columns.map(lambda x : x.replace(\"-\", \"_\").replace(\" \", \"_\"))\n",
    "# still not satisfied with EmploymentStatus\n",
    "customers = customers.rename(columns={\"EmploymentStatus\":\"Employment_Status\"})\n",
    "customers.columns"
   ]
  },
  {
   "cell_type": "code",
   "execution_count": 4,
   "id": "9abfdca9",
   "metadata": {},
   "outputs": [
    {
     "name": "stdout",
     "output_type": "stream",
     "text": [
      "Customer_Lifetime_Value\n",
      "Income\n",
      "Monthly_Premium_Auto\n",
      "Months_Since_Last_Claim\n",
      "Months_Since_Policy_Inception\n",
      "Number_of_Open_Complaints\n",
      "Number_of_Policies\n",
      "Total_Claim_Amount\n"
     ]
    }
   ],
   "source": [
    "# 3. Which columns are numerical?\n",
    "num_cols = customers._get_numeric_data()\n",
    "for col in num_cols:\n",
    "    print(col)"
   ]
  },
  {
   "cell_type": "code",
   "execution_count": 5,
   "id": "c7356ca8",
   "metadata": {},
   "outputs": [
    {
     "data": {
      "text/plain": [
       "Index(['Customer', 'State', 'Response', 'Coverage', 'Education',\n",
       "       'Effective_To_Date', 'Employment_Status', 'Gender', 'Location_Code',\n",
       "       'Marital_Status', 'Policy_Type', 'Policy', 'Renew_Offer_Type',\n",
       "       'Sales_Channel', 'Vehicle_Class', 'Vehicle_Size'],\n",
       "      dtype='object')"
      ]
     },
     "execution_count": 5,
     "metadata": {},
     "output_type": "execute_result"
    }
   ],
   "source": [
    "# 4. Which columns are categorical?\n",
    "customers.select_dtypes('object').columns"
   ]
  },
  {
   "cell_type": "code",
   "execution_count": 6,
   "id": "43ea1a98",
   "metadata": {},
   "outputs": [
    {
     "data": {
      "text/plain": [
       "Customer                         0.0\n",
       "State                            0.0\n",
       "Customer_Lifetime_Value          0.0\n",
       "Response                         0.0\n",
       "Coverage                         0.0\n",
       "Education                        0.0\n",
       "Effective_To_Date                0.0\n",
       "Employment_Status                0.0\n",
       "Gender                           0.0\n",
       "Income                           0.0\n",
       "Location_Code                    0.0\n",
       "Marital_Status                   0.0\n",
       "Monthly_Premium_Auto             0.0\n",
       "Months_Since_Last_Claim          0.0\n",
       "Months_Since_Policy_Inception    0.0\n",
       "Number_of_Open_Complaints        0.0\n",
       "Number_of_Policies               0.0\n",
       "Policy_Type                      0.0\n",
       "Policy                           0.0\n",
       "Renew_Offer_Type                 0.0\n",
       "Sales_Channel                    0.0\n",
       "Total_Claim_Amount               0.0\n",
       "Vehicle_Class                    0.0\n",
       "Vehicle_Size                     0.0\n",
       "dtype: float64"
      ]
     },
     "execution_count": 6,
     "metadata": {},
     "output_type": "execute_result"
    }
   ],
   "source": [
    "# 5. Check and deal with `NaN` values.\n",
    "customers.isna().sum()\n",
    "# let's see the relative \n",
    "round(customers.isna().sum()/len(customers),4)*100\n",
    "# customers[customers['State'].isna()==True].head(60)    # test line to see some values\n",
    "# I think > 5% is too high to just drop them based on NaN in State\n",
    "# Decide to change them into generic USA --> next cell"
   ]
  },
  {
   "cell_type": "code",
   "execution_count": 7,
   "id": "3a7749e3",
   "metadata": {},
   "outputs": [],
   "source": [
    "# 5. continue\n",
    "# Fill State with USA\n",
    "customers['State'] = customers['State'].fillna('USA')\n",
    "# round(customers.isna().sum()/len(customers),4)*100"
   ]
  },
  {
   "cell_type": "code",
   "execution_count": 8,
   "id": "1d57ccea",
   "metadata": {},
   "outputs": [],
   "source": [
    "# 5. Continue with column Response\n",
    "# customers[customers['Response'].isna()==True].head(60)    # test line to see some values\n",
    "customers.loc[:,['Response']].head(60)\n",
    "# Response seems to be boolean \"Yes/No\", with some empty fields. Looks like mostly the \n",
    "# same as previous customers without State. \n",
    "# I decide to fill the NaN with \"No\", since that sounds like least possible consequence\n",
    "# and most common value\n",
    "customers['Response'] = customers['Response'].fillna('No')"
   ]
  },
  {
   "cell_type": "code",
   "execution_count": 9,
   "id": "d1be23ee",
   "metadata": {},
   "outputs": [],
   "source": [
    "# 5. Continue with column Months_Since_Last_Claim\n",
    "# pd.set_option('display.max_columns', None)    # see all columns, since Months_Since_Last_Claim was hidden\n",
    "# customers[customers['Months_Since_Last_Claim'].isna()==False].head(60)    # test line to see some values\n",
    "# Decide to fill Months_Since_Last_Claim with the average on total\n",
    "# Determine average floating with one decimal\n",
    "# import numpy\n",
    "import numpy as np\n",
    "mean_Months_Since_Last_Claim = round(customers['Months_Since_Last_Claim'].mean(),1)\n",
    "mean_Months_Since_Last_Claim\n",
    "customers['Months_Since_Last_Claim'] = customers['Months_Since_Last_Claim'].fillna(mean_Months_Since_Last_Claim)"
   ]
  },
  {
   "cell_type": "code",
   "execution_count": 10,
   "id": "c6251364",
   "metadata": {},
   "outputs": [],
   "source": [
    "# 5. Continue with column Number_of_Open_Complaints\n",
    "# pd.set_option('display.max_columns', None)    # see all columns, since Months_Since_Last_Claim was hidden\n",
    "# customers[customers['Number_of_Open_Complaints'].isna()==True].head(60)    # test line to see some values\n",
    "# Decide to fill Number_of_Open_Complaints with mean value rounded whole numbers\n",
    "mean_Number_of_Open_Complaints = round(customers['Number_of_Open_Complaints'].mean(),0)\n",
    "mean_Number_of_Open_Complaints\n",
    "customers['Number_of_Open_Complaints'] = customers['Number_of_Open_Complaints'].fillna(mean_Months_Since_Last_Claim)"
   ]
  },
  {
   "cell_type": "code",
   "execution_count": 11,
   "id": "09080c6b",
   "metadata": {},
   "outputs": [
    {
     "ename": "KeyError",
     "evalue": "\"['Vehicle_Type'] not found in axis\"",
     "output_type": "error",
     "traceback": [
      "\u001b[0;31m---------------------------------------------------------------------------\u001b[0m",
      "\u001b[0;31mKeyError\u001b[0m                                  Traceback (most recent call last)",
      "\u001b[0;32m<ipython-input-11-dd2b1e3f13ad>\u001b[0m in \u001b[0;36m<module>\u001b[0;34m\u001b[0m\n\u001b[1;32m     10\u001b[0m \u001b[0;31m# and Vehicle_Size together, therefore:\u001b[0m\u001b[0;34m\u001b[0m\u001b[0;34m\u001b[0m\u001b[0;34m\u001b[0m\u001b[0m\n\u001b[1;32m     11\u001b[0m \u001b[0;31m# Decide to eliminate column Vehicle_Type\u001b[0m\u001b[0;34m\u001b[0m\u001b[0;34m\u001b[0m\u001b[0;34m\u001b[0m\u001b[0m\n\u001b[0;32m---> 12\u001b[0;31m \u001b[0mcustomers\u001b[0m \u001b[0;34m=\u001b[0m \u001b[0mcustomers\u001b[0m\u001b[0;34m.\u001b[0m\u001b[0mdrop\u001b[0m\u001b[0;34m(\u001b[0m\u001b[0;34m[\u001b[0m\u001b[0;34m'Vehicle_Type'\u001b[0m\u001b[0;34m]\u001b[0m\u001b[0;34m,\u001b[0m \u001b[0maxis\u001b[0m\u001b[0;34m=\u001b[0m\u001b[0;36m1\u001b[0m\u001b[0;34m)\u001b[0m  \u001b[0;31m# drop a single column\u001b[0m\u001b[0;34m\u001b[0m\u001b[0;34m\u001b[0m\u001b[0m\n\u001b[0m\u001b[1;32m     13\u001b[0m \u001b[0;31m# customers.head()\u001b[0m\u001b[0;34m\u001b[0m\u001b[0;34m\u001b[0m\u001b[0;34m\u001b[0m\u001b[0m\n",
      "\u001b[0;32m~/opt/anaconda3/lib/python3.8/site-packages/pandas/core/frame.py\u001b[0m in \u001b[0;36mdrop\u001b[0;34m(self, labels, axis, index, columns, level, inplace, errors)\u001b[0m\n\u001b[1;32m   4306\u001b[0m                 \u001b[0mweight\u001b[0m  \u001b[0;36m1.0\u001b[0m     \u001b[0;36m0.8\u001b[0m\u001b[0;34m\u001b[0m\u001b[0;34m\u001b[0m\u001b[0m\n\u001b[1;32m   4307\u001b[0m         \"\"\"\n\u001b[0;32m-> 4308\u001b[0;31m         return super().drop(\n\u001b[0m\u001b[1;32m   4309\u001b[0m             \u001b[0mlabels\u001b[0m\u001b[0;34m=\u001b[0m\u001b[0mlabels\u001b[0m\u001b[0;34m,\u001b[0m\u001b[0;34m\u001b[0m\u001b[0;34m\u001b[0m\u001b[0m\n\u001b[1;32m   4310\u001b[0m             \u001b[0maxis\u001b[0m\u001b[0;34m=\u001b[0m\u001b[0maxis\u001b[0m\u001b[0;34m,\u001b[0m\u001b[0;34m\u001b[0m\u001b[0;34m\u001b[0m\u001b[0m\n",
      "\u001b[0;32m~/opt/anaconda3/lib/python3.8/site-packages/pandas/core/generic.py\u001b[0m in \u001b[0;36mdrop\u001b[0;34m(self, labels, axis, index, columns, level, inplace, errors)\u001b[0m\n\u001b[1;32m   4151\u001b[0m         \u001b[0;32mfor\u001b[0m \u001b[0maxis\u001b[0m\u001b[0;34m,\u001b[0m \u001b[0mlabels\u001b[0m \u001b[0;32min\u001b[0m \u001b[0maxes\u001b[0m\u001b[0;34m.\u001b[0m\u001b[0mitems\u001b[0m\u001b[0;34m(\u001b[0m\u001b[0;34m)\u001b[0m\u001b[0;34m:\u001b[0m\u001b[0;34m\u001b[0m\u001b[0;34m\u001b[0m\u001b[0m\n\u001b[1;32m   4152\u001b[0m             \u001b[0;32mif\u001b[0m \u001b[0mlabels\u001b[0m \u001b[0;32mis\u001b[0m \u001b[0;32mnot\u001b[0m \u001b[0;32mNone\u001b[0m\u001b[0;34m:\u001b[0m\u001b[0;34m\u001b[0m\u001b[0;34m\u001b[0m\u001b[0m\n\u001b[0;32m-> 4153\u001b[0;31m                 \u001b[0mobj\u001b[0m \u001b[0;34m=\u001b[0m \u001b[0mobj\u001b[0m\u001b[0;34m.\u001b[0m\u001b[0m_drop_axis\u001b[0m\u001b[0;34m(\u001b[0m\u001b[0mlabels\u001b[0m\u001b[0;34m,\u001b[0m \u001b[0maxis\u001b[0m\u001b[0;34m,\u001b[0m \u001b[0mlevel\u001b[0m\u001b[0;34m=\u001b[0m\u001b[0mlevel\u001b[0m\u001b[0;34m,\u001b[0m \u001b[0merrors\u001b[0m\u001b[0;34m=\u001b[0m\u001b[0merrors\u001b[0m\u001b[0;34m)\u001b[0m\u001b[0;34m\u001b[0m\u001b[0;34m\u001b[0m\u001b[0m\n\u001b[0m\u001b[1;32m   4154\u001b[0m \u001b[0;34m\u001b[0m\u001b[0m\n\u001b[1;32m   4155\u001b[0m         \u001b[0;32mif\u001b[0m \u001b[0minplace\u001b[0m\u001b[0;34m:\u001b[0m\u001b[0;34m\u001b[0m\u001b[0;34m\u001b[0m\u001b[0m\n",
      "\u001b[0;32m~/opt/anaconda3/lib/python3.8/site-packages/pandas/core/generic.py\u001b[0m in \u001b[0;36m_drop_axis\u001b[0;34m(self, labels, axis, level, errors)\u001b[0m\n\u001b[1;32m   4186\u001b[0m                 \u001b[0mnew_axis\u001b[0m \u001b[0;34m=\u001b[0m \u001b[0maxis\u001b[0m\u001b[0;34m.\u001b[0m\u001b[0mdrop\u001b[0m\u001b[0;34m(\u001b[0m\u001b[0mlabels\u001b[0m\u001b[0;34m,\u001b[0m \u001b[0mlevel\u001b[0m\u001b[0;34m=\u001b[0m\u001b[0mlevel\u001b[0m\u001b[0;34m,\u001b[0m \u001b[0merrors\u001b[0m\u001b[0;34m=\u001b[0m\u001b[0merrors\u001b[0m\u001b[0;34m)\u001b[0m\u001b[0;34m\u001b[0m\u001b[0;34m\u001b[0m\u001b[0m\n\u001b[1;32m   4187\u001b[0m             \u001b[0;32melse\u001b[0m\u001b[0;34m:\u001b[0m\u001b[0;34m\u001b[0m\u001b[0;34m\u001b[0m\u001b[0m\n\u001b[0;32m-> 4188\u001b[0;31m                 \u001b[0mnew_axis\u001b[0m \u001b[0;34m=\u001b[0m \u001b[0maxis\u001b[0m\u001b[0;34m.\u001b[0m\u001b[0mdrop\u001b[0m\u001b[0;34m(\u001b[0m\u001b[0mlabels\u001b[0m\u001b[0;34m,\u001b[0m \u001b[0merrors\u001b[0m\u001b[0;34m=\u001b[0m\u001b[0merrors\u001b[0m\u001b[0;34m)\u001b[0m\u001b[0;34m\u001b[0m\u001b[0;34m\u001b[0m\u001b[0m\n\u001b[0m\u001b[1;32m   4189\u001b[0m             \u001b[0mresult\u001b[0m \u001b[0;34m=\u001b[0m \u001b[0mself\u001b[0m\u001b[0;34m.\u001b[0m\u001b[0mreindex\u001b[0m\u001b[0;34m(\u001b[0m\u001b[0;34m**\u001b[0m\u001b[0;34m{\u001b[0m\u001b[0maxis_name\u001b[0m\u001b[0;34m:\u001b[0m \u001b[0mnew_axis\u001b[0m\u001b[0;34m}\u001b[0m\u001b[0;34m)\u001b[0m\u001b[0;34m\u001b[0m\u001b[0;34m\u001b[0m\u001b[0m\n\u001b[1;32m   4190\u001b[0m \u001b[0;34m\u001b[0m\u001b[0m\n",
      "\u001b[0;32m~/opt/anaconda3/lib/python3.8/site-packages/pandas/core/indexes/base.py\u001b[0m in \u001b[0;36mdrop\u001b[0;34m(self, labels, errors)\u001b[0m\n\u001b[1;32m   5589\u001b[0m         \u001b[0;32mif\u001b[0m \u001b[0mmask\u001b[0m\u001b[0;34m.\u001b[0m\u001b[0many\u001b[0m\u001b[0;34m(\u001b[0m\u001b[0;34m)\u001b[0m\u001b[0;34m:\u001b[0m\u001b[0;34m\u001b[0m\u001b[0;34m\u001b[0m\u001b[0m\n\u001b[1;32m   5590\u001b[0m             \u001b[0;32mif\u001b[0m \u001b[0merrors\u001b[0m \u001b[0;34m!=\u001b[0m \u001b[0;34m\"ignore\"\u001b[0m\u001b[0;34m:\u001b[0m\u001b[0;34m\u001b[0m\u001b[0;34m\u001b[0m\u001b[0m\n\u001b[0;32m-> 5591\u001b[0;31m                 \u001b[0;32mraise\u001b[0m \u001b[0mKeyError\u001b[0m\u001b[0;34m(\u001b[0m\u001b[0;34mf\"{labels[mask]} not found in axis\"\u001b[0m\u001b[0;34m)\u001b[0m\u001b[0;34m\u001b[0m\u001b[0;34m\u001b[0m\u001b[0m\n\u001b[0m\u001b[1;32m   5592\u001b[0m             \u001b[0mindexer\u001b[0m \u001b[0;34m=\u001b[0m \u001b[0mindexer\u001b[0m\u001b[0;34m[\u001b[0m\u001b[0;34m~\u001b[0m\u001b[0mmask\u001b[0m\u001b[0;34m]\u001b[0m\u001b[0;34m\u001b[0m\u001b[0;34m\u001b[0m\u001b[0m\n\u001b[1;32m   5593\u001b[0m         \u001b[0;32mreturn\u001b[0m \u001b[0mself\u001b[0m\u001b[0;34m.\u001b[0m\u001b[0mdelete\u001b[0m\u001b[0;34m(\u001b[0m\u001b[0mindexer\u001b[0m\u001b[0;34m)\u001b[0m\u001b[0;34m\u001b[0m\u001b[0;34m\u001b[0m\u001b[0m\n",
      "\u001b[0;31mKeyError\u001b[0m: \"['Vehicle_Type'] not found in axis\""
     ]
    }
   ],
   "source": [
    "# 5. Continue with column Vehicle_Class | Vehicle_Size | Vehicle_Type\n",
    "# pd.set_option('display.max_columns', None)    # see all columns, since Months_Since_Last_Claim was hidden\n",
    "# customers[customers['Vehicle_Size'].isna()==True].head(60)    # test line to see some values\n",
    "# seems that all NaN on Class and Size are vehicle type A\n",
    "# customers.loc[customers['Vehicle_Type'] == 'A']\n",
    "# customers.loc[customers['Vehicle_Size'] == 'A']\n",
    "# customers.loc[:,['Vehicle_Class','Vehicle_Size','Vehicle_Type']].head(60)\n",
    "# Looking at Vehicle_Type seems that this field is really bad on data quality,\n",
    "# since it's either A or NaN. It doesn't really give more or better info than Vehicle_Class \n",
    "# and Vehicle_Size together, therefore:\n",
    "# Decide to eliminate column Vehicle_Type\n",
    "customers = customers.drop(['Vehicle_Type'], axis=1)  # drop a single column \n",
    "# customers.head()"
   ]
  },
  {
   "cell_type": "code",
   "execution_count": 12,
   "id": "aec41a9b",
   "metadata": {},
   "outputs": [],
   "source": [
    "# 5. Continue with column Vehicle_Class | Vehicle_Size \n",
    "# pd.set_option('display.max_columns', None)    # see all columns, since Months_Since_Last_Claim was hidden\n",
    "customers[customers['Vehicle_Class'].isna()==True].head(60)    # test line to see some values\n",
    "# it seems like both columns have NaN together so I treat them equally\n",
    "customers.loc[86:100,['Vehicle_Class','Vehicle_Size']].head(60)\n",
    "# want to know most common Vehicle_Size\n",
    "customers['Vehicle_Size'].unique()\n",
    "# aparently 3 options L / M / S\n",
    "customers['Vehicle_Size'].value_counts()\n",
    "# decide to fill Vehicle_Size with Medsize\n",
    "customers['Vehicle_Size'] = customers['Vehicle_Size'].fillna('Medsize')\n",
    "customers['Vehicle_Class'].value_counts()\n",
    "# decide to fill Vehicle_Size with Four-Door Car\n",
    "customers['Vehicle_Class'] = customers['Vehicle_Class'].fillna('Four-Door Car')"
   ]
  },
  {
   "cell_type": "code",
   "execution_count": 13,
   "id": "78e17383",
   "metadata": {},
   "outputs": [
    {
     "data": {
      "text/plain": [
       "Customer                         0.0\n",
       "State                            0.0\n",
       "Customer_Lifetime_Value          0.0\n",
       "Response                         0.0\n",
       "Coverage                         0.0\n",
       "Education                        0.0\n",
       "Effective_To_Date                0.0\n",
       "Employment_Status                0.0\n",
       "Gender                           0.0\n",
       "Income                           0.0\n",
       "Location_Code                    0.0\n",
       "Marital_Status                   0.0\n",
       "Monthly_Premium_Auto             0.0\n",
       "Months_Since_Last_Claim          0.0\n",
       "Months_Since_Policy_Inception    0.0\n",
       "Number_of_Open_Complaints        0.0\n",
       "Number_of_Policies               0.0\n",
       "Policy_Type                      0.0\n",
       "Policy                           0.0\n",
       "Renew_Offer_Type                 0.0\n",
       "Sales_Channel                    0.0\n",
       "Total_Claim_Amount               0.0\n",
       "Vehicle_Class                    0.0\n",
       "Vehicle_Size                     0.0\n",
       "dtype: float64"
      ]
     },
     "execution_count": 13,
     "metadata": {},
     "output_type": "execute_result"
    }
   ],
   "source": [
    "# 5. Final check\n",
    "round(customers.isna().sum()/len(customers),4)*100"
   ]
  },
  {
   "cell_type": "code",
   "execution_count": 14,
   "id": "ac33002e",
   "metadata": {},
   "outputs": [
    {
     "data": {
      "text/plain": [
       "dtype('<M8[ns]')"
      ]
     },
     "execution_count": 14,
     "metadata": {},
     "output_type": "execute_result"
    }
   ],
   "source": [
    "# 6. Datetime format - Extract the months from the dataset and store in a separate \n",
    "# column. Then filter the data to show only the information for the first quarter , \n",
    "# ie. January, February and March. _Hint_: If data from March does not exist, \n",
    "# consider only January and February.\n",
    "pd.set_option('display.max_columns', None) \n",
    "customers.head()\n",
    "# It looks like Effective_To_Date is the one I need (m/d/y) let's check it's type\n",
    "# customers['Effective_To_Date'].dtypes\n",
    "# so, it's not a date/time format, let's convert\n",
    "customers['Effective_To_Date'] = pd.to_datetime(customers['Effective_To_Date'], errors='coerce')\n",
    "customers['Effective_To_Date'].dtypes\n",
    "# that worked '<M8[ns]' is is part of generic datetime64[ns]\n"
   ]
  },
  {
   "cell_type": "code",
   "execution_count": 15,
   "id": "1d0a2da8",
   "metadata": {},
   "outputs": [
    {
     "data": {
      "text/html": [
       "<div>\n",
       "<style scoped>\n",
       "    .dataframe tbody tr th:only-of-type {\n",
       "        vertical-align: middle;\n",
       "    }\n",
       "\n",
       "    .dataframe tbody tr th {\n",
       "        vertical-align: top;\n",
       "    }\n",
       "\n",
       "    .dataframe thead th {\n",
       "        text-align: right;\n",
       "    }\n",
       "</style>\n",
       "<table border=\"1\" class=\"dataframe\">\n",
       "  <thead>\n",
       "    <tr style=\"text-align: right;\">\n",
       "      <th></th>\n",
       "      <th>Customer</th>\n",
       "      <th>State</th>\n",
       "      <th>Customer_Lifetime_Value</th>\n",
       "      <th>Response</th>\n",
       "      <th>Coverage</th>\n",
       "      <th>Education</th>\n",
       "      <th>Effective_To_Date</th>\n",
       "      <th>Employment_Status</th>\n",
       "      <th>Gender</th>\n",
       "      <th>Income</th>\n",
       "      <th>Location_Code</th>\n",
       "      <th>Marital_Status</th>\n",
       "      <th>Monthly_Premium_Auto</th>\n",
       "      <th>Months_Since_Last_Claim</th>\n",
       "      <th>Months_Since_Policy_Inception</th>\n",
       "      <th>Number_of_Open_Complaints</th>\n",
       "      <th>Number_of_Policies</th>\n",
       "      <th>Policy_Type</th>\n",
       "      <th>Policy</th>\n",
       "      <th>Renew_Offer_Type</th>\n",
       "      <th>Sales_Channel</th>\n",
       "      <th>Total_Claim_Amount</th>\n",
       "      <th>Vehicle_Class</th>\n",
       "      <th>Vehicle_Size</th>\n",
       "    </tr>\n",
       "  </thead>\n",
       "  <tbody>\n",
       "    <tr>\n",
       "      <th>0</th>\n",
       "      <td>BU79786</td>\n",
       "      <td>Washington</td>\n",
       "      <td>2763.519279</td>\n",
       "      <td>No</td>\n",
       "      <td>Basic</td>\n",
       "      <td>Bachelor</td>\n",
       "      <td>2011-02-24</td>\n",
       "      <td>Employed</td>\n",
       "      <td>F</td>\n",
       "      <td>56274</td>\n",
       "      <td>Suburban</td>\n",
       "      <td>Married</td>\n",
       "      <td>69</td>\n",
       "      <td>32</td>\n",
       "      <td>5</td>\n",
       "      <td>0</td>\n",
       "      <td>1</td>\n",
       "      <td>Corporate Auto</td>\n",
       "      <td>Corporate L3</td>\n",
       "      <td>Offer1</td>\n",
       "      <td>Agent</td>\n",
       "      <td>384.811147</td>\n",
       "      <td>Two-Door Car</td>\n",
       "      <td>Medsize</td>\n",
       "    </tr>\n",
       "    <tr>\n",
       "      <th>1</th>\n",
       "      <td>QZ44356</td>\n",
       "      <td>Arizona</td>\n",
       "      <td>6979.535903</td>\n",
       "      <td>No</td>\n",
       "      <td>Extended</td>\n",
       "      <td>Bachelor</td>\n",
       "      <td>2011-01-31</td>\n",
       "      <td>Unemployed</td>\n",
       "      <td>F</td>\n",
       "      <td>0</td>\n",
       "      <td>Suburban</td>\n",
       "      <td>Single</td>\n",
       "      <td>94</td>\n",
       "      <td>13</td>\n",
       "      <td>42</td>\n",
       "      <td>0</td>\n",
       "      <td>8</td>\n",
       "      <td>Personal Auto</td>\n",
       "      <td>Personal L3</td>\n",
       "      <td>Offer3</td>\n",
       "      <td>Agent</td>\n",
       "      <td>1131.464935</td>\n",
       "      <td>Four-Door Car</td>\n",
       "      <td>Medsize</td>\n",
       "    </tr>\n",
       "    <tr>\n",
       "      <th>2</th>\n",
       "      <td>AI49188</td>\n",
       "      <td>Nevada</td>\n",
       "      <td>12887.431650</td>\n",
       "      <td>No</td>\n",
       "      <td>Premium</td>\n",
       "      <td>Bachelor</td>\n",
       "      <td>2011-02-19</td>\n",
       "      <td>Employed</td>\n",
       "      <td>F</td>\n",
       "      <td>48767</td>\n",
       "      <td>Suburban</td>\n",
       "      <td>Married</td>\n",
       "      <td>108</td>\n",
       "      <td>18</td>\n",
       "      <td>38</td>\n",
       "      <td>0</td>\n",
       "      <td>2</td>\n",
       "      <td>Personal Auto</td>\n",
       "      <td>Personal L3</td>\n",
       "      <td>Offer1</td>\n",
       "      <td>Agent</td>\n",
       "      <td>566.472247</td>\n",
       "      <td>Two-Door Car</td>\n",
       "      <td>Medsize</td>\n",
       "    </tr>\n",
       "    <tr>\n",
       "      <th>3</th>\n",
       "      <td>WW63253</td>\n",
       "      <td>California</td>\n",
       "      <td>7645.861827</td>\n",
       "      <td>No</td>\n",
       "      <td>Basic</td>\n",
       "      <td>Bachelor</td>\n",
       "      <td>2011-01-20</td>\n",
       "      <td>Unemployed</td>\n",
       "      <td>M</td>\n",
       "      <td>0</td>\n",
       "      <td>Suburban</td>\n",
       "      <td>Married</td>\n",
       "      <td>106</td>\n",
       "      <td>18</td>\n",
       "      <td>65</td>\n",
       "      <td>0</td>\n",
       "      <td>7</td>\n",
       "      <td>Corporate Auto</td>\n",
       "      <td>Corporate L2</td>\n",
       "      <td>Offer1</td>\n",
       "      <td>Call Center</td>\n",
       "      <td>529.881344</td>\n",
       "      <td>SUV</td>\n",
       "      <td>Medsize</td>\n",
       "    </tr>\n",
       "    <tr>\n",
       "      <th>4</th>\n",
       "      <td>HB64268</td>\n",
       "      <td>Washington</td>\n",
       "      <td>2813.692575</td>\n",
       "      <td>No</td>\n",
       "      <td>Basic</td>\n",
       "      <td>Bachelor</td>\n",
       "      <td>2011-02-03</td>\n",
       "      <td>Employed</td>\n",
       "      <td>M</td>\n",
       "      <td>43836</td>\n",
       "      <td>Rural</td>\n",
       "      <td>Single</td>\n",
       "      <td>73</td>\n",
       "      <td>12</td>\n",
       "      <td>44</td>\n",
       "      <td>0</td>\n",
       "      <td>1</td>\n",
       "      <td>Personal Auto</td>\n",
       "      <td>Personal L1</td>\n",
       "      <td>Offer1</td>\n",
       "      <td>Agent</td>\n",
       "      <td>138.130879</td>\n",
       "      <td>Four-Door Car</td>\n",
       "      <td>Medsize</td>\n",
       "    </tr>\n",
       "    <tr>\n",
       "      <th>...</th>\n",
       "      <td>...</td>\n",
       "      <td>...</td>\n",
       "      <td>...</td>\n",
       "      <td>...</td>\n",
       "      <td>...</td>\n",
       "      <td>...</td>\n",
       "      <td>...</td>\n",
       "      <td>...</td>\n",
       "      <td>...</td>\n",
       "      <td>...</td>\n",
       "      <td>...</td>\n",
       "      <td>...</td>\n",
       "      <td>...</td>\n",
       "      <td>...</td>\n",
       "      <td>...</td>\n",
       "      <td>...</td>\n",
       "      <td>...</td>\n",
       "      <td>...</td>\n",
       "      <td>...</td>\n",
       "      <td>...</td>\n",
       "      <td>...</td>\n",
       "      <td>...</td>\n",
       "      <td>...</td>\n",
       "      <td>...</td>\n",
       "    </tr>\n",
       "    <tr>\n",
       "      <th>9129</th>\n",
       "      <td>LA72316</td>\n",
       "      <td>California</td>\n",
       "      <td>23405.987980</td>\n",
       "      <td>No</td>\n",
       "      <td>Basic</td>\n",
       "      <td>Bachelor</td>\n",
       "      <td>2011-02-10</td>\n",
       "      <td>Employed</td>\n",
       "      <td>M</td>\n",
       "      <td>71941</td>\n",
       "      <td>Urban</td>\n",
       "      <td>Married</td>\n",
       "      <td>73</td>\n",
       "      <td>18</td>\n",
       "      <td>89</td>\n",
       "      <td>0</td>\n",
       "      <td>2</td>\n",
       "      <td>Personal Auto</td>\n",
       "      <td>Personal L1</td>\n",
       "      <td>Offer2</td>\n",
       "      <td>Web</td>\n",
       "      <td>198.234764</td>\n",
       "      <td>Four-Door Car</td>\n",
       "      <td>Medsize</td>\n",
       "    </tr>\n",
       "    <tr>\n",
       "      <th>9130</th>\n",
       "      <td>PK87824</td>\n",
       "      <td>California</td>\n",
       "      <td>3096.511217</td>\n",
       "      <td>Yes</td>\n",
       "      <td>Extended</td>\n",
       "      <td>College</td>\n",
       "      <td>2011-02-12</td>\n",
       "      <td>Employed</td>\n",
       "      <td>F</td>\n",
       "      <td>21604</td>\n",
       "      <td>Suburban</td>\n",
       "      <td>Divorced</td>\n",
       "      <td>79</td>\n",
       "      <td>14</td>\n",
       "      <td>28</td>\n",
       "      <td>0</td>\n",
       "      <td>1</td>\n",
       "      <td>Corporate Auto</td>\n",
       "      <td>Corporate L3</td>\n",
       "      <td>Offer1</td>\n",
       "      <td>Branch</td>\n",
       "      <td>379.200000</td>\n",
       "      <td>Four-Door Car</td>\n",
       "      <td>Medsize</td>\n",
       "    </tr>\n",
       "    <tr>\n",
       "      <th>9131</th>\n",
       "      <td>TD14365</td>\n",
       "      <td>California</td>\n",
       "      <td>8163.890428</td>\n",
       "      <td>No</td>\n",
       "      <td>Extended</td>\n",
       "      <td>Bachelor</td>\n",
       "      <td>2011-02-06</td>\n",
       "      <td>Unemployed</td>\n",
       "      <td>M</td>\n",
       "      <td>0</td>\n",
       "      <td>Suburban</td>\n",
       "      <td>Single</td>\n",
       "      <td>85</td>\n",
       "      <td>9</td>\n",
       "      <td>37</td>\n",
       "      <td>3</td>\n",
       "      <td>2</td>\n",
       "      <td>Corporate Auto</td>\n",
       "      <td>Corporate L2</td>\n",
       "      <td>Offer1</td>\n",
       "      <td>Branch</td>\n",
       "      <td>790.784983</td>\n",
       "      <td>Four-Door Car</td>\n",
       "      <td>Medsize</td>\n",
       "    </tr>\n",
       "    <tr>\n",
       "      <th>9132</th>\n",
       "      <td>UP19263</td>\n",
       "      <td>California</td>\n",
       "      <td>7524.442436</td>\n",
       "      <td>No</td>\n",
       "      <td>Extended</td>\n",
       "      <td>College</td>\n",
       "      <td>2011-02-03</td>\n",
       "      <td>Employed</td>\n",
       "      <td>M</td>\n",
       "      <td>21941</td>\n",
       "      <td>Suburban</td>\n",
       "      <td>Married</td>\n",
       "      <td>96</td>\n",
       "      <td>34</td>\n",
       "      <td>3</td>\n",
       "      <td>0</td>\n",
       "      <td>3</td>\n",
       "      <td>Personal Auto</td>\n",
       "      <td>Personal L2</td>\n",
       "      <td>Offer3</td>\n",
       "      <td>Branch</td>\n",
       "      <td>691.200000</td>\n",
       "      <td>Four-Door Car</td>\n",
       "      <td>Large</td>\n",
       "    </tr>\n",
       "    <tr>\n",
       "      <th>9133</th>\n",
       "      <td>Y167826</td>\n",
       "      <td>California</td>\n",
       "      <td>2611.836866</td>\n",
       "      <td>No</td>\n",
       "      <td>Extended</td>\n",
       "      <td>College</td>\n",
       "      <td>2011-02-14</td>\n",
       "      <td>Unemployed</td>\n",
       "      <td>M</td>\n",
       "      <td>0</td>\n",
       "      <td>Suburban</td>\n",
       "      <td>Single</td>\n",
       "      <td>77</td>\n",
       "      <td>3</td>\n",
       "      <td>90</td>\n",
       "      <td>0</td>\n",
       "      <td>1</td>\n",
       "      <td>Corporate Auto</td>\n",
       "      <td>Corporate L3</td>\n",
       "      <td>Offer4</td>\n",
       "      <td>Call Center</td>\n",
       "      <td>369.600000</td>\n",
       "      <td>Two-Door Car</td>\n",
       "      <td>Medsize</td>\n",
       "    </tr>\n",
       "  </tbody>\n",
       "</table>\n",
       "<p>9134 rows × 24 columns</p>\n",
       "</div>"
      ],
      "text/plain": [
       "     Customer       State  Customer_Lifetime_Value Response  Coverage  \\\n",
       "0     BU79786  Washington              2763.519279       No     Basic   \n",
       "1     QZ44356     Arizona              6979.535903       No  Extended   \n",
       "2     AI49188      Nevada             12887.431650       No   Premium   \n",
       "3     WW63253  California              7645.861827       No     Basic   \n",
       "4     HB64268  Washington              2813.692575       No     Basic   \n",
       "...       ...         ...                      ...      ...       ...   \n",
       "9129  LA72316  California             23405.987980       No     Basic   \n",
       "9130  PK87824  California              3096.511217      Yes  Extended   \n",
       "9131  TD14365  California              8163.890428       No  Extended   \n",
       "9132  UP19263  California              7524.442436       No  Extended   \n",
       "9133  Y167826  California              2611.836866       No  Extended   \n",
       "\n",
       "     Education Effective_To_Date Employment_Status Gender  Income  \\\n",
       "0     Bachelor        2011-02-24          Employed      F   56274   \n",
       "1     Bachelor        2011-01-31        Unemployed      F       0   \n",
       "2     Bachelor        2011-02-19          Employed      F   48767   \n",
       "3     Bachelor        2011-01-20        Unemployed      M       0   \n",
       "4     Bachelor        2011-02-03          Employed      M   43836   \n",
       "...        ...               ...               ...    ...     ...   \n",
       "9129  Bachelor        2011-02-10          Employed      M   71941   \n",
       "9130   College        2011-02-12          Employed      F   21604   \n",
       "9131  Bachelor        2011-02-06        Unemployed      M       0   \n",
       "9132   College        2011-02-03          Employed      M   21941   \n",
       "9133   College        2011-02-14        Unemployed      M       0   \n",
       "\n",
       "     Location_Code Marital_Status  Monthly_Premium_Auto  \\\n",
       "0         Suburban        Married                    69   \n",
       "1         Suburban         Single                    94   \n",
       "2         Suburban        Married                   108   \n",
       "3         Suburban        Married                   106   \n",
       "4            Rural         Single                    73   \n",
       "...            ...            ...                   ...   \n",
       "9129         Urban        Married                    73   \n",
       "9130      Suburban       Divorced                    79   \n",
       "9131      Suburban         Single                    85   \n",
       "9132      Suburban        Married                    96   \n",
       "9133      Suburban         Single                    77   \n",
       "\n",
       "      Months_Since_Last_Claim  Months_Since_Policy_Inception  \\\n",
       "0                          32                              5   \n",
       "1                          13                             42   \n",
       "2                          18                             38   \n",
       "3                          18                             65   \n",
       "4                          12                             44   \n",
       "...                       ...                            ...   \n",
       "9129                       18                             89   \n",
       "9130                       14                             28   \n",
       "9131                        9                             37   \n",
       "9132                       34                              3   \n",
       "9133                        3                             90   \n",
       "\n",
       "      Number_of_Open_Complaints  Number_of_Policies     Policy_Type  \\\n",
       "0                             0                   1  Corporate Auto   \n",
       "1                             0                   8   Personal Auto   \n",
       "2                             0                   2   Personal Auto   \n",
       "3                             0                   7  Corporate Auto   \n",
       "4                             0                   1   Personal Auto   \n",
       "...                         ...                 ...             ...   \n",
       "9129                          0                   2   Personal Auto   \n",
       "9130                          0                   1  Corporate Auto   \n",
       "9131                          3                   2  Corporate Auto   \n",
       "9132                          0                   3   Personal Auto   \n",
       "9133                          0                   1  Corporate Auto   \n",
       "\n",
       "            Policy Renew_Offer_Type Sales_Channel  Total_Claim_Amount  \\\n",
       "0     Corporate L3           Offer1         Agent          384.811147   \n",
       "1      Personal L3           Offer3         Agent         1131.464935   \n",
       "2      Personal L3           Offer1         Agent          566.472247   \n",
       "3     Corporate L2           Offer1   Call Center          529.881344   \n",
       "4      Personal L1           Offer1         Agent          138.130879   \n",
       "...            ...              ...           ...                 ...   \n",
       "9129   Personal L1           Offer2           Web          198.234764   \n",
       "9130  Corporate L3           Offer1        Branch          379.200000   \n",
       "9131  Corporate L2           Offer1        Branch          790.784983   \n",
       "9132   Personal L2           Offer3        Branch          691.200000   \n",
       "9133  Corporate L3           Offer4   Call Center          369.600000   \n",
       "\n",
       "      Vehicle_Class Vehicle_Size  \n",
       "0      Two-Door Car      Medsize  \n",
       "1     Four-Door Car      Medsize  \n",
       "2      Two-Door Car      Medsize  \n",
       "3               SUV      Medsize  \n",
       "4     Four-Door Car      Medsize  \n",
       "...             ...          ...  \n",
       "9129  Four-Door Car      Medsize  \n",
       "9130  Four-Door Car      Medsize  \n",
       "9131  Four-Door Car      Medsize  \n",
       "9132  Four-Door Car        Large  \n",
       "9133   Two-Door Car      Medsize  \n",
       "\n",
       "[9134 rows x 24 columns]"
      ]
     },
     "execution_count": 15,
     "metadata": {},
     "output_type": "execute_result"
    }
   ],
   "source": [
    "# 6. Continue\n",
    "customers.head()\n",
    "customers[customers['Effective_To_Date'].dt.quarter == 1] \n",
    "# aparently, in order to show first quarter no seperate column is needed"
   ]
  },
  {
   "cell_type": "code",
   "execution_count": 16,
   "id": "c3f04b56",
   "metadata": {},
   "outputs": [],
   "source": [
    "# 7. BONUS: Put all the previously mentioned data transformations into a function.\n",
    "# no time for this, have to go to part 3"
   ]
  },
  {
   "cell_type": "code",
   "execution_count": 17,
   "id": "5cf59b8a",
   "metadata": {},
   "outputs": [],
   "source": [
    "# Lab: Customer Analysis Round 3\n",
    "# Show DataFrame info.\n",
    "# Describe DataFrame.\n",
    "# Show a plot of the total number of responses.\n",
    "# Show a plot of the response rate by the sales channel.\n",
    "# Show a plot of the response rate by the total claim amount.\n",
    "# Show a plot of the response rate by income."
   ]
  },
  {
   "cell_type": "code",
   "execution_count": 18,
   "id": "551fd588",
   "metadata": {},
   "outputs": [
    {
     "name": "stdout",
     "output_type": "stream",
     "text": [
      "<class 'pandas.core.frame.DataFrame'>\n",
      "RangeIndex: 9134 entries, 0 to 9133\n",
      "Data columns (total 24 columns):\n",
      " #   Column                         Non-Null Count  Dtype         \n",
      "---  ------                         --------------  -----         \n",
      " 0   Customer                       9134 non-null   object        \n",
      " 1   State                          9134 non-null   object        \n",
      " 2   Customer_Lifetime_Value        9134 non-null   float64       \n",
      " 3   Response                       9134 non-null   object        \n",
      " 4   Coverage                       9134 non-null   object        \n",
      " 5   Education                      9134 non-null   object        \n",
      " 6   Effective_To_Date              9134 non-null   datetime64[ns]\n",
      " 7   Employment_Status              9134 non-null   object        \n",
      " 8   Gender                         9134 non-null   object        \n",
      " 9   Income                         9134 non-null   int64         \n",
      " 10  Location_Code                  9134 non-null   object        \n",
      " 11  Marital_Status                 9134 non-null   object        \n",
      " 12  Monthly_Premium_Auto           9134 non-null   int64         \n",
      " 13  Months_Since_Last_Claim        9134 non-null   int64         \n",
      " 14  Months_Since_Policy_Inception  9134 non-null   int64         \n",
      " 15  Number_of_Open_Complaints      9134 non-null   int64         \n",
      " 16  Number_of_Policies             9134 non-null   int64         \n",
      " 17  Policy_Type                    9134 non-null   object        \n",
      " 18  Policy                         9134 non-null   object        \n",
      " 19  Renew_Offer_Type               9134 non-null   object        \n",
      " 20  Sales_Channel                  9134 non-null   object        \n",
      " 21  Total_Claim_Amount             9134 non-null   float64       \n",
      " 22  Vehicle_Class                  9134 non-null   object        \n",
      " 23  Vehicle_Size                   9134 non-null   object        \n",
      "dtypes: datetime64[ns](1), float64(2), int64(6), object(15)\n",
      "memory usage: 1.7+ MB\n"
     ]
    }
   ],
   "source": [
    "# Show DataFrame info.\n",
    "customers.dtypes    # Or:\n",
    "customers.info()"
   ]
  },
  {
   "cell_type": "code",
   "execution_count": 19,
   "id": "3bf16372",
   "metadata": {},
   "outputs": [
    {
     "data": {
      "text/html": [
       "<div>\n",
       "<style scoped>\n",
       "    .dataframe tbody tr th:only-of-type {\n",
       "        vertical-align: middle;\n",
       "    }\n",
       "\n",
       "    .dataframe tbody tr th {\n",
       "        vertical-align: top;\n",
       "    }\n",
       "\n",
       "    .dataframe thead th {\n",
       "        text-align: right;\n",
       "    }\n",
       "</style>\n",
       "<table border=\"1\" class=\"dataframe\">\n",
       "  <thead>\n",
       "    <tr style=\"text-align: right;\">\n",
       "      <th></th>\n",
       "      <th>count</th>\n",
       "      <th>mean</th>\n",
       "      <th>std</th>\n",
       "      <th>min</th>\n",
       "      <th>25%</th>\n",
       "      <th>50%</th>\n",
       "      <th>75%</th>\n",
       "      <th>max</th>\n",
       "      <th>iqr</th>\n",
       "    </tr>\n",
       "  </thead>\n",
       "  <tbody>\n",
       "    <tr>\n",
       "      <th>Customer_Lifetime_Value</th>\n",
       "      <td>9134.0</td>\n",
       "      <td>8004.94</td>\n",
       "      <td>6870.97</td>\n",
       "      <td>1898.01</td>\n",
       "      <td>3994.25</td>\n",
       "      <td>5780.18</td>\n",
       "      <td>8962.17</td>\n",
       "      <td>83325.38</td>\n",
       "      <td>4967.92</td>\n",
       "    </tr>\n",
       "    <tr>\n",
       "      <th>Income</th>\n",
       "      <td>9134.0</td>\n",
       "      <td>37657.38</td>\n",
       "      <td>30379.90</td>\n",
       "      <td>0.00</td>\n",
       "      <td>0.00</td>\n",
       "      <td>33889.50</td>\n",
       "      <td>62320.00</td>\n",
       "      <td>99981.00</td>\n",
       "      <td>62320.00</td>\n",
       "    </tr>\n",
       "    <tr>\n",
       "      <th>Monthly_Premium_Auto</th>\n",
       "      <td>9134.0</td>\n",
       "      <td>93.22</td>\n",
       "      <td>34.41</td>\n",
       "      <td>61.00</td>\n",
       "      <td>68.00</td>\n",
       "      <td>83.00</td>\n",
       "      <td>109.00</td>\n",
       "      <td>298.00</td>\n",
       "      <td>41.00</td>\n",
       "    </tr>\n",
       "    <tr>\n",
       "      <th>Months_Since_Last_Claim</th>\n",
       "      <td>9134.0</td>\n",
       "      <td>15.10</td>\n",
       "      <td>10.07</td>\n",
       "      <td>0.00</td>\n",
       "      <td>6.00</td>\n",
       "      <td>14.00</td>\n",
       "      <td>23.00</td>\n",
       "      <td>35.00</td>\n",
       "      <td>17.00</td>\n",
       "    </tr>\n",
       "    <tr>\n",
       "      <th>Months_Since_Policy_Inception</th>\n",
       "      <td>9134.0</td>\n",
       "      <td>48.06</td>\n",
       "      <td>27.91</td>\n",
       "      <td>0.00</td>\n",
       "      <td>24.00</td>\n",
       "      <td>48.00</td>\n",
       "      <td>71.00</td>\n",
       "      <td>99.00</td>\n",
       "      <td>47.00</td>\n",
       "    </tr>\n",
       "    <tr>\n",
       "      <th>Number_of_Open_Complaints</th>\n",
       "      <td>9134.0</td>\n",
       "      <td>0.38</td>\n",
       "      <td>0.91</td>\n",
       "      <td>0.00</td>\n",
       "      <td>0.00</td>\n",
       "      <td>0.00</td>\n",
       "      <td>0.00</td>\n",
       "      <td>5.00</td>\n",
       "      <td>0.00</td>\n",
       "    </tr>\n",
       "    <tr>\n",
       "      <th>Number_of_Policies</th>\n",
       "      <td>9134.0</td>\n",
       "      <td>2.97</td>\n",
       "      <td>2.39</td>\n",
       "      <td>1.00</td>\n",
       "      <td>1.00</td>\n",
       "      <td>2.00</td>\n",
       "      <td>4.00</td>\n",
       "      <td>9.00</td>\n",
       "      <td>3.00</td>\n",
       "    </tr>\n",
       "    <tr>\n",
       "      <th>Total_Claim_Amount</th>\n",
       "      <td>9134.0</td>\n",
       "      <td>434.09</td>\n",
       "      <td>290.50</td>\n",
       "      <td>0.10</td>\n",
       "      <td>272.26</td>\n",
       "      <td>383.95</td>\n",
       "      <td>547.51</td>\n",
       "      <td>2893.24</td>\n",
       "      <td>275.26</td>\n",
       "    </tr>\n",
       "  </tbody>\n",
       "</table>\n",
       "</div>"
      ],
      "text/plain": [
       "                                count      mean       std      min      25%  \\\n",
       "Customer_Lifetime_Value        9134.0   8004.94   6870.97  1898.01  3994.25   \n",
       "Income                         9134.0  37657.38  30379.90     0.00     0.00   \n",
       "Monthly_Premium_Auto           9134.0     93.22     34.41    61.00    68.00   \n",
       "Months_Since_Last_Claim        9134.0     15.10     10.07     0.00     6.00   \n",
       "Months_Since_Policy_Inception  9134.0     48.06     27.91     0.00    24.00   \n",
       "Number_of_Open_Complaints      9134.0      0.38      0.91     0.00     0.00   \n",
       "Number_of_Policies             9134.0      2.97      2.39     1.00     1.00   \n",
       "Total_Claim_Amount             9134.0    434.09    290.50     0.10   272.26   \n",
       "\n",
       "                                    50%       75%       max       iqr  \n",
       "Customer_Lifetime_Value         5780.18   8962.17  83325.38   4967.92  \n",
       "Income                         33889.50  62320.00  99981.00  62320.00  \n",
       "Monthly_Premium_Auto              83.00    109.00    298.00     41.00  \n",
       "Months_Since_Last_Claim           14.00     23.00     35.00     17.00  \n",
       "Months_Since_Policy_Inception     48.00     71.00     99.00     47.00  \n",
       "Number_of_Open_Complaints          0.00      0.00      5.00      0.00  \n",
       "Number_of_Policies                 2.00      4.00      9.00      3.00  \n",
       "Total_Claim_Amount               383.95    547.51   2893.24    275.26  "
      ]
     },
     "execution_count": 19,
     "metadata": {},
     "output_type": "execute_result"
    }
   ],
   "source": [
    "# Describe DataFrame \n",
    "# directly:\n",
    "# customers.describe().T   # transpose for readability\n",
    "# customers.describe(include='all').T\n",
    "# through variable with formatting:\n",
    "summary = customers.describe().T\n",
    "summary['iqr'] = summary['75%']-summary['25%']\n",
    "summary['mean'] = list(map(lambda x: round(x,2), summary['mean']))\n",
    "\n",
    "for col in summary.columns:\n",
    "    summary[col] = summary[col].apply(lambda x : round(x, 2))\n",
    "summary"
   ]
  },
  {
   "cell_type": "code",
   "execution_count": 20,
   "id": "42064bdc",
   "metadata": {},
   "outputs": [
    {
     "data": {
      "text/plain": [
       "<AxesSubplot:>"
      ]
     },
     "execution_count": 20,
     "metadata": {},
     "output_type": "execute_result"
    },
    {
     "data": {
      "image/png": "[encoded data removed]",
      "text/plain": [
       "<Figure size 432x288 with 1 Axes>"
      ]
     },
     "metadata": {
      "needs_background": "light"
     },
     "output_type": "display_data"
    }
   ],
   "source": [
    "# Show a plot of the total number of responses.\n",
    "# Unclear instruction: requirement is to show number of \"Yes\" responses next to \n",
    "# the \"No\" responses with numbers on y-axis\n",
    "# installed seaborn first\n",
    "import matplotlib.pyplot as plt\n",
    "import seaborn as sns \n",
    "%matplotlib inline\n",
    "# Since number of responses is a Yes or No I will plot that compared to each other\n",
    "customers['Response'].hist()"
   ]
  },
  {
   "cell_type": "code",
   "execution_count": 21,
   "id": "edbb9e0c",
   "metadata": {},
   "outputs": [
    {
     "data": {
      "text/plain": [
       "<AxesSubplot:xlabel='Sales_Channel', ylabel='Count'>"
      ]
     },
     "execution_count": 21,
     "metadata": {},
     "output_type": "execute_result"
    },
    {
     "data": {
      "image/png": "[encoded data removed]",
      "text/plain": [
       "<Figure size 432x288 with 1 Axes>"
      ]
     },
     "metadata": {
      "needs_background": "light"
     },
     "output_type": "display_data"
    }
   ],
   "source": [
    "# Show a plot of the response rate by the sales channel.\n",
    "# unclear instruction: interpretation required\n",
    "# x-as number of responses per channel devided by Yes / No (Rate)\n",
    "sns.histplot(data=customers, x='Sales_Channel', hue='Response', stat='count', cumulative=False)"
   ]
  },
  {
   "cell_type": "code",
   "execution_count": 22,
   "id": "efe25240",
   "metadata": {},
   "outputs": [
    {
     "data": {
      "image/png": "[encoded data removed]",
      "text/plain": [
       "<Figure size 432x288 with 1 Axes>"
      ]
     },
     "metadata": {
      "needs_background": "light"
     },
     "output_type": "display_data"
    }
   ],
   "source": [
    "# Show a plot of the response rate by the total claim amount.\n",
    "# unclear instruction: interpretation required\n",
    "# Want to see by Claim Amount where Yes and No are --> boxplot\n",
    "sns.boxplot(x = 'Response',y='Total_Claim_Amount', data=customers)\n",
    "plt.show()"
   ]
  },
  {
   "cell_type": "code",
   "execution_count": 23,
   "id": "a7ea79bc",
   "metadata": {},
   "outputs": [],
   "source": [
    "# Show a plot of the response rate by income.\n",
    "# unclear instruction: interpretation required\n",
    "# Interpretation\n",
    "# Determine response Y/N rate per incomebox in python\n",
    "# Make boxplot to get an idea of the distribution per income\n",
    "# Make new dataframe/list as input for a stacked bar chart\n",
    "# pd.set_option('display.max_columns', None) \n",
    "# customers\n",
    "# sns.boxplot(x = 'Response',y='Income', data=customers)\n",
    "# plt.show()\n",
    "# conclusion boxplot: many 0-income on No response (unknown income)\n",
    "# I consider 0-income as one of the income box, because \n",
    "# filtering out would effect the response rate too much\n",
    "# I want to display response rate by:\n",
    "# < 20000\n",
    "# 20000 - 30000\n",
    "# 30000 - 40000\n",
    "# 40000 - 50000\n",
    "# 50000 - 60000\n",
    "# > 60000\n",
    "\n",
    "# df.to_numpy().tolist()\n",
    "# list.count(element)\n",
    "\n",
    "\n",
    "\n",
    "\n",
    "# Cannot finish within time"
   ]
  },
  {
   "cell_type": "markdown",
   "id": "21edbd4b",
   "metadata": {},
   "source": [
    "# Start Lab | Customer Analysis Round 4"
   ]
  },
  {
   "cell_type": "code",
   "execution_count": 24,
   "id": "e8adcc6a",
   "metadata": {},
   "outputs": [
    {
     "data": {
      "text/html": [
       "<div>\n",
       "<style scoped>\n",
       "    .dataframe tbody tr th:only-of-type {\n",
       "        vertical-align: middle;\n",
       "    }\n",
       "\n",
       "    .dataframe tbody tr th {\n",
       "        vertical-align: top;\n",
       "    }\n",
       "\n",
       "    .dataframe thead th {\n",
       "        text-align: right;\n",
       "    }\n",
       "</style>\n",
       "<table border=\"1\" class=\"dataframe\">\n",
       "  <thead>\n",
       "    <tr style=\"text-align: right;\">\n",
       "      <th></th>\n",
       "      <th>Customer_Lifetime_Value</th>\n",
       "      <th>Income</th>\n",
       "      <th>Monthly_Premium_Auto</th>\n",
       "      <th>Months_Since_Last_Claim</th>\n",
       "      <th>Months_Since_Policy_Inception</th>\n",
       "      <th>Number_of_Open_Complaints</th>\n",
       "      <th>Number_of_Policies</th>\n",
       "      <th>Total_Claim_Amount</th>\n",
       "    </tr>\n",
       "  </thead>\n",
       "  <tbody>\n",
       "    <tr>\n",
       "      <th>0</th>\n",
       "      <td>2763.519279</td>\n",
       "      <td>56274</td>\n",
       "      <td>69</td>\n",
       "      <td>32</td>\n",
       "      <td>5</td>\n",
       "      <td>0</td>\n",
       "      <td>1</td>\n",
       "      <td>384.811147</td>\n",
       "    </tr>\n",
       "    <tr>\n",
       "      <th>1</th>\n",
       "      <td>6979.535903</td>\n",
       "      <td>0</td>\n",
       "      <td>94</td>\n",
       "      <td>13</td>\n",
       "      <td>42</td>\n",
       "      <td>0</td>\n",
       "      <td>8</td>\n",
       "      <td>1131.464935</td>\n",
       "    </tr>\n",
       "    <tr>\n",
       "      <th>2</th>\n",
       "      <td>12887.431650</td>\n",
       "      <td>48767</td>\n",
       "      <td>108</td>\n",
       "      <td>18</td>\n",
       "      <td>38</td>\n",
       "      <td>0</td>\n",
       "      <td>2</td>\n",
       "      <td>566.472247</td>\n",
       "    </tr>\n",
       "    <tr>\n",
       "      <th>3</th>\n",
       "      <td>7645.861827</td>\n",
       "      <td>0</td>\n",
       "      <td>106</td>\n",
       "      <td>18</td>\n",
       "      <td>65</td>\n",
       "      <td>0</td>\n",
       "      <td>7</td>\n",
       "      <td>529.881344</td>\n",
       "    </tr>\n",
       "    <tr>\n",
       "      <th>4</th>\n",
       "      <td>2813.692575</td>\n",
       "      <td>43836</td>\n",
       "      <td>73</td>\n",
       "      <td>12</td>\n",
       "      <td>44</td>\n",
       "      <td>0</td>\n",
       "      <td>1</td>\n",
       "      <td>138.130879</td>\n",
       "    </tr>\n",
       "  </tbody>\n",
       "</table>\n",
       "</div>"
      ],
      "text/plain": [
       "   Customer_Lifetime_Value  Income  Monthly_Premium_Auto  \\\n",
       "0              2763.519279   56274                    69   \n",
       "1              6979.535903       0                    94   \n",
       "2             12887.431650   48767                   108   \n",
       "3              7645.861827       0                   106   \n",
       "4              2813.692575   43836                    73   \n",
       "\n",
       "   Months_Since_Last_Claim  Months_Since_Policy_Inception  \\\n",
       "0                       32                              5   \n",
       "1                       13                             42   \n",
       "2                       18                             38   \n",
       "3                       18                             65   \n",
       "4                       12                             44   \n",
       "\n",
       "   Number_of_Open_Complaints  Number_of_Policies  Total_Claim_Amount  \n",
       "0                          0                   1          384.811147  \n",
       "1                          0                   8         1131.464935  \n",
       "2                          0                   2          566.472247  \n",
       "3                          0                   7          529.881344  \n",
       "4                          0                   1          138.130879  "
      ]
     },
     "metadata": {},
     "output_type": "display_data"
    },
    {
     "data": {
      "text/html": [
       "<div>\n",
       "<style scoped>\n",
       "    .dataframe tbody tr th:only-of-type {\n",
       "        vertical-align: middle;\n",
       "    }\n",
       "\n",
       "    .dataframe tbody tr th {\n",
       "        vertical-align: top;\n",
       "    }\n",
       "\n",
       "    .dataframe thead th {\n",
       "        text-align: right;\n",
       "    }\n",
       "</style>\n",
       "<table border=\"1\" class=\"dataframe\">\n",
       "  <thead>\n",
       "    <tr style=\"text-align: right;\">\n",
       "      <th></th>\n",
       "      <th>Customer</th>\n",
       "      <th>State</th>\n",
       "      <th>Response</th>\n",
       "      <th>Coverage</th>\n",
       "      <th>Education</th>\n",
       "      <th>Employment_Status</th>\n",
       "      <th>Gender</th>\n",
       "      <th>Location_Code</th>\n",
       "      <th>Marital_Status</th>\n",
       "      <th>Policy_Type</th>\n",
       "      <th>Policy</th>\n",
       "      <th>Renew_Offer_Type</th>\n",
       "      <th>Sales_Channel</th>\n",
       "      <th>Vehicle_Class</th>\n",
       "      <th>Vehicle_Size</th>\n",
       "    </tr>\n",
       "  </thead>\n",
       "  <tbody>\n",
       "    <tr>\n",
       "      <th>0</th>\n",
       "      <td>BU79786</td>\n",
       "      <td>Washington</td>\n",
       "      <td>No</td>\n",
       "      <td>Basic</td>\n",
       "      <td>Bachelor</td>\n",
       "      <td>Employed</td>\n",
       "      <td>F</td>\n",
       "      <td>Suburban</td>\n",
       "      <td>Married</td>\n",
       "      <td>Corporate Auto</td>\n",
       "      <td>Corporate L3</td>\n",
       "      <td>Offer1</td>\n",
       "      <td>Agent</td>\n",
       "      <td>Two-Door Car</td>\n",
       "      <td>Medsize</td>\n",
       "    </tr>\n",
       "    <tr>\n",
       "      <th>1</th>\n",
       "      <td>QZ44356</td>\n",
       "      <td>Arizona</td>\n",
       "      <td>No</td>\n",
       "      <td>Extended</td>\n",
       "      <td>Bachelor</td>\n",
       "      <td>Unemployed</td>\n",
       "      <td>F</td>\n",
       "      <td>Suburban</td>\n",
       "      <td>Single</td>\n",
       "      <td>Personal Auto</td>\n",
       "      <td>Personal L3</td>\n",
       "      <td>Offer3</td>\n",
       "      <td>Agent</td>\n",
       "      <td>Four-Door Car</td>\n",
       "      <td>Medsize</td>\n",
       "    </tr>\n",
       "    <tr>\n",
       "      <th>2</th>\n",
       "      <td>AI49188</td>\n",
       "      <td>Nevada</td>\n",
       "      <td>No</td>\n",
       "      <td>Premium</td>\n",
       "      <td>Bachelor</td>\n",
       "      <td>Employed</td>\n",
       "      <td>F</td>\n",
       "      <td>Suburban</td>\n",
       "      <td>Married</td>\n",
       "      <td>Personal Auto</td>\n",
       "      <td>Personal L3</td>\n",
       "      <td>Offer1</td>\n",
       "      <td>Agent</td>\n",
       "      <td>Two-Door Car</td>\n",
       "      <td>Medsize</td>\n",
       "    </tr>\n",
       "    <tr>\n",
       "      <th>3</th>\n",
       "      <td>WW63253</td>\n",
       "      <td>California</td>\n",
       "      <td>No</td>\n",
       "      <td>Basic</td>\n",
       "      <td>Bachelor</td>\n",
       "      <td>Unemployed</td>\n",
       "      <td>M</td>\n",
       "      <td>Suburban</td>\n",
       "      <td>Married</td>\n",
       "      <td>Corporate Auto</td>\n",
       "      <td>Corporate L2</td>\n",
       "      <td>Offer1</td>\n",
       "      <td>Call Center</td>\n",
       "      <td>SUV</td>\n",
       "      <td>Medsize</td>\n",
       "    </tr>\n",
       "    <tr>\n",
       "      <th>4</th>\n",
       "      <td>HB64268</td>\n",
       "      <td>Washington</td>\n",
       "      <td>No</td>\n",
       "      <td>Basic</td>\n",
       "      <td>Bachelor</td>\n",
       "      <td>Employed</td>\n",
       "      <td>M</td>\n",
       "      <td>Rural</td>\n",
       "      <td>Single</td>\n",
       "      <td>Personal Auto</td>\n",
       "      <td>Personal L1</td>\n",
       "      <td>Offer1</td>\n",
       "      <td>Agent</td>\n",
       "      <td>Four-Door Car</td>\n",
       "      <td>Medsize</td>\n",
       "    </tr>\n",
       "  </tbody>\n",
       "</table>\n",
       "</div>"
      ],
      "text/plain": [
       "  Customer       State Response  Coverage Education Employment_Status Gender  \\\n",
       "0  BU79786  Washington       No     Basic  Bachelor          Employed      F   \n",
       "1  QZ44356     Arizona       No  Extended  Bachelor        Unemployed      F   \n",
       "2  AI49188      Nevada       No   Premium  Bachelor          Employed      F   \n",
       "3  WW63253  California       No     Basic  Bachelor        Unemployed      M   \n",
       "4  HB64268  Washington       No     Basic  Bachelor          Employed      M   \n",
       "\n",
       "  Location_Code Marital_Status     Policy_Type        Policy Renew_Offer_Type  \\\n",
       "0      Suburban        Married  Corporate Auto  Corporate L3           Offer1   \n",
       "1      Suburban         Single   Personal Auto   Personal L3           Offer3   \n",
       "2      Suburban        Married   Personal Auto   Personal L3           Offer1   \n",
       "3      Suburban        Married  Corporate Auto  Corporate L2           Offer1   \n",
       "4         Rural         Single   Personal Auto   Personal L1           Offer1   \n",
       "\n",
       "  Sales_Channel  Vehicle_Class Vehicle_Size  \n",
       "0         Agent   Two-Door Car      Medsize  \n",
       "1         Agent  Four-Door Car      Medsize  \n",
       "2         Agent   Two-Door Car      Medsize  \n",
       "3   Call Center            SUV      Medsize  \n",
       "4         Agent  Four-Door Car      Medsize  "
      ]
     },
     "metadata": {},
     "output_type": "display_data"
    },
    {
     "data": {
      "text/plain": [
       "Customer                                 object\n",
       "State                                    object\n",
       "Customer_Lifetime_Value                 float64\n",
       "Response                                 object\n",
       "Coverage                                 object\n",
       "Education                                object\n",
       "Effective_To_Date                datetime64[ns]\n",
       "Employment_Status                        object\n",
       "Gender                                   object\n",
       "Income                                    int64\n",
       "Location_Code                            object\n",
       "Marital_Status                           object\n",
       "Monthly_Premium_Auto                      int64\n",
       "Months_Since_Last_Claim                   int64\n",
       "Months_Since_Policy_Inception             int64\n",
       "Number_of_Open_Complaints                 int64\n",
       "Number_of_Policies                        int64\n",
       "Policy_Type                              object\n",
       "Policy                                   object\n",
       "Renew_Offer_Type                         object\n",
       "Sales_Channel                            object\n",
       "Total_Claim_Amount                      float64\n",
       "Vehicle_Class                            object\n",
       "Vehicle_Size                             object\n",
       "dtype: object"
      ]
     },
     "metadata": {},
     "output_type": "display_data"
    }
   ],
   "source": [
    "# Start Lab | Customer Analysis Round 4\n",
    "# - Check the data types of the columns (1). Get the numeric data into dataframe called \n",
    "#   numerical (2) and categorical columns in a dataframe called categoricals (3). (You can use \n",
    "#   np.number and np.object to select the numerical data types and categorical data types \n",
    "#   respectively.\n",
    "pd.set_option('display.max_columns', None)\n",
    "# print(customers.dtypes)                                # instruction 1 done\n",
    "numerical = customers._get_numeric_data()                # instruction 2 done\n",
    "# cat_headers = customers.select_dtypes('object').columns\n",
    "categorical = customers.select_dtypes(include=object)    # instruction 3 done\n",
    "display(numerical.head(), categorical.head(), customers.dtypes)      "
   ]
  },
  {
   "cell_type": "code",
   "execution_count": 25,
   "id": "4ea09e54",
   "metadata": {},
   "outputs": [
    {
     "data": {
      "image/png": "[encoded data removed]",
      "text/plain": [
       "<Figure size 360x360 with 1 Axes>"
      ]
     },
     "metadata": {
      "needs_background": "light"
     },
     "output_type": "display_data"
    }
   ],
   "source": [
    "# Continue Lab | Customer Analysis Round 4\n",
    "# - Now we will try to check the normality of the numerical variables visually\n",
    "#    - Use seaborn library to construct distribution plots for the numerical variables\n",
    "#    - Use Matplotlib to construct histograms\n",
    "#    - Do the distributions for different numerical variables look like a normal distribution\n",
    "#\n",
    "# Customer_Lifetime_Value\n",
    "sns.displot(customers['Customer_Lifetime_Value'])\n",
    "plt.show()"
   ]
  },
  {
   "cell_type": "code",
   "execution_count": 26,
   "id": "6a7b20b7",
   "metadata": {},
   "outputs": [
    {
     "data": {
      "image/png": "[encoded data removed]",
      "text/plain": [
       "<Figure size 432x288 with 1 Axes>"
      ]
     },
     "metadata": {
      "needs_background": "light"
     },
     "output_type": "display_data"
    }
   ],
   "source": [
    "# Customer_Lifetime_Value\n",
    "sns.histplot(customers['Customer_Lifetime_Value'], color=\"orange\")\n",
    "plt.show()"
   ]
  },
  {
   "cell_type": "code",
   "execution_count": 27,
   "id": "4af38aaf",
   "metadata": {},
   "outputs": [
    {
     "data": {
      "image/png": "[encoded data removed]",
      "text/plain": [
       "<Figure size 360x360 with 1 Axes>"
      ]
     },
     "metadata": {
      "needs_background": "light"
     },
     "output_type": "display_data"
    }
   ],
   "source": [
    "# Income\n",
    "sns.displot(customers['Income'])\n",
    "plt.show()"
   ]
  },
  {
   "cell_type": "code",
   "execution_count": 28,
   "id": "4094a7bb",
   "metadata": {},
   "outputs": [
    {
     "data": {
      "image/png": "[encoded data removed]",
      "text/plain": [
       "<Figure size 432x288 with 1 Axes>"
      ]
     },
     "metadata": {
      "needs_background": "light"
     },
     "output_type": "display_data"
    }
   ],
   "source": [
    "# Income\n",
    "sns.histplot(customers['Income'], color=\"orange\")\n",
    "plt.show()"
   ]
  },
  {
   "cell_type": "code",
   "execution_count": 29,
   "id": "1fbe557d",
   "metadata": {},
   "outputs": [
    {
     "data": {
      "image/png": "[encoded data removed]",
      "text/plain": [
       "<Figure size 360x360 with 1 Axes>"
      ]
     },
     "metadata": {
      "needs_background": "light"
     },
     "output_type": "display_data"
    }
   ],
   "source": [
    "# Monthly_Premium_Auto\n",
    "sns.displot(customers['Monthly_Premium_Auto'])\n",
    "plt.show()"
   ]
  },
  {
   "cell_type": "code",
   "execution_count": 30,
   "id": "81cf24c9",
   "metadata": {},
   "outputs": [
    {
     "data": {
      "image/png": "[encoded data removed]",
      "text/plain": [
       "<Figure size 432x288 with 1 Axes>"
      ]
     },
     "metadata": {
      "needs_background": "light"
     },
     "output_type": "display_data"
    }
   ],
   "source": [
    "# Monthly_Premium_Auto\n",
    "sns.histplot(customers['Monthly_Premium_Auto'], color=\"orange\")\n",
    "plt.show()"
   ]
  },
  {
   "cell_type": "code",
   "execution_count": 31,
   "id": "a34b062f",
   "metadata": {},
   "outputs": [
    {
     "data": {
      "image/png": "[encoded data removed]",
      "text/plain": [
       "<Figure size 360x360 with 1 Axes>"
      ]
     },
     "metadata": {
      "needs_background": "light"
     },
     "output_type": "display_data"
    }
   ],
   "source": [
    "# Months_Since_Last_Claim\n",
    "sns.displot(customers['Months_Since_Last_Claim'])\n",
    "plt.show()"
   ]
  },
  {
   "cell_type": "code",
   "execution_count": 32,
   "id": "b47b7e66",
   "metadata": {},
   "outputs": [
    {
     "data": {
      "image/png": "[encoded data removed]",
      "text/plain": [
       "<Figure size 432x288 with 1 Axes>"
      ]
     },
     "metadata": {
      "needs_background": "light"
     },
     "output_type": "display_data"
    }
   ],
   "source": [
    "# Months_Since_Last_Claim\n",
    "sns.histplot(customers['Months_Since_Last_Claim'], color=\"orange\")\n",
    "plt.show()"
   ]
  },
  {
   "cell_type": "code",
   "execution_count": 33,
   "id": "6c37d8ac",
   "metadata": {},
   "outputs": [
    {
     "data": {
      "image/png": "[encoded data removed]",
      "text/plain": [
       "<Figure size 360x360 with 1 Axes>"
      ]
     },
     "metadata": {
      "needs_background": "light"
     },
     "output_type": "display_data"
    }
   ],
   "source": [
    "# Months_Since_Policy_Inception\n",
    "sns.displot(customers['Months_Since_Policy_Inception'])\n",
    "plt.show()"
   ]
  },
  {
   "cell_type": "code",
   "execution_count": 34,
   "id": "29fc6ff0",
   "metadata": {},
   "outputs": [
    {
     "data": {
      "image/png": "[encoded data removed]",
      "text/plain": [
       "<Figure size 432x288 with 1 Axes>"
      ]
     },
     "metadata": {
      "needs_background": "light"
     },
     "output_type": "display_data"
    }
   ],
   "source": [
    "# Months_Since_Policy_Inception\n",
    "sns.histplot(customers['Months_Since_Policy_Inception'], color=\"orange\")\n",
    "plt.show()"
   ]
  },
  {
   "cell_type": "code",
   "execution_count": 35,
   "id": "c1934722",
   "metadata": {},
   "outputs": [
    {
     "data": {
      "image/png": "[encoded data removed]",
      "text/plain": [
       "<Figure size 360x360 with 1 Axes>"
      ]
     },
     "metadata": {
      "needs_background": "light"
     },
     "output_type": "display_data"
    }
   ],
   "source": [
    "# Number_of_Open_Complaints\n",
    "sns.displot(customers['Number_of_Open_Complaints'])\n",
    "plt.show()"
   ]
  },
  {
   "cell_type": "code",
   "execution_count": 36,
   "id": "aa01d1c8",
   "metadata": {},
   "outputs": [
    {
     "data": {
      "image/png": "[encoded data removed]",
      "text/plain": [
       "<Figure size 432x288 with 1 Axes>"
      ]
     },
     "metadata": {
      "needs_background": "light"
     },
     "output_type": "display_data"
    }
   ],
   "source": [
    "# Number_of_Open_Complaints\n",
    "sns.histplot(customers['Number_of_Open_Complaints'], color=\"orange\")\n",
    "plt.show()"
   ]
  },
  {
   "cell_type": "code",
   "execution_count": 37,
   "id": "3281a7df",
   "metadata": {},
   "outputs": [
    {
     "data": {
      "image/png": "[encoded data removed]",
      "text/plain": [
       "<Figure size 360x360 with 1 Axes>"
      ]
     },
     "metadata": {
      "needs_background": "light"
     },
     "output_type": "display_data"
    }
   ],
   "source": [
    "# Number_of_Policies\n",
    "sns.displot(customers['Number_of_Policies'])\n",
    "plt.show()"
   ]
  },
  {
   "cell_type": "code",
   "execution_count": 38,
   "id": "9f578711",
   "metadata": {},
   "outputs": [
    {
     "data": {
      "image/png": "[encoded data removed]",
      "text/plain": [
       "<Figure size 432x288 with 1 Axes>"
      ]
     },
     "metadata": {
      "needs_background": "light"
     },
     "output_type": "display_data"
    }
   ],
   "source": [
    "# Number_of_Policies\n",
    "sns.histplot(customers['Number_of_Policies'], color=\"orange\")\n",
    "plt.show()"
   ]
  },
  {
   "cell_type": "code",
   "execution_count": 39,
   "id": "f7d1fe92",
   "metadata": {},
   "outputs": [
    {
     "data": {
      "image/png": "[encoded data removed]",
      "text/plain": [
       "<Figure size 360x360 with 1 Axes>"
      ]
     },
     "metadata": {
      "needs_background": "light"
     },
     "output_type": "display_data"
    }
   ],
   "source": [
    "# Total_Claim_Amount\n",
    "sns.displot(customers['Total_Claim_Amount'])\n",
    "plt.show()"
   ]
  },
  {
   "cell_type": "code",
   "execution_count": 40,
   "id": "23e210d1",
   "metadata": {},
   "outputs": [
    {
     "data": {
      "image/png": "[encoded data removed]",
      "text/plain": [
       "<Figure size 432x288 with 1 Axes>"
      ]
     },
     "metadata": {
      "needs_background": "light"
     },
     "output_type": "display_data"
    }
   ],
   "source": [
    "# Total_Claim_Amount\n",
    "sns.histplot(customers['Total_Claim_Amount'], color=\"orange\")\n",
    "plt.show()"
   ]
  },
  {
   "cell_type": "code",
   "execution_count": 41,
   "id": "a2c66dde",
   "metadata": {},
   "outputs": [],
   "source": [
    "# Do the distributions for different numerical variables look like a normal distribution\n",
    "# I would say, following seem to look like or nearly like normal distribution:\n",
    "    # Customer_Lifetime_Value\n",
    "    # Income\n",
    "    # Monthly_Premium_Auto\n",
    "    # Total_Claim_Amount"
   ]
  },
  {
   "cell_type": "code",
   "execution_count": 42,
   "id": "8df21a28",
   "metadata": {},
   "outputs": [
    {
     "data": {
      "image/png": "[encoded data removed]",
      "text/plain": [
       "<Figure size 432x288 with 2 Axes>"
      ]
     },
     "metadata": {
      "needs_background": "light"
     },
     "output_type": "display_data"
    }
   ],
   "source": [
    "# Continue Lab | Customer Analysis Round 4\n",
    "# - For the numerical variables, check the multicollinearity between the features. Please \n",
    "#   note that we will use the column total_claim_amount later as the target variable.\n",
    "# multicollinearity: starting wth the heat map and draw some conclusions\n",
    "correlations_matrix = customers.corr()\n",
    "sns.heatmap(correlations_matrix, annot=True)\n",
    "plt.show()\n",
    "# THIS IS PROBABLY THE MOST IMPORTANT LINE IN THIS NOTEBOOK\n",
    "# the best variables are those that have a high correlation with the target \n",
    "# (you want to predict, always the y), but low correlation between themselves\n",
    "    # zorg ervoor dat onderlinge hoge correlatie niet allebei tegelijk gebruikt, zit ook noise bij\n",
    "    # welke hoge correlatie met output hebben is goed, maar weinig met onderlinge hoge correlatie"
   ]
  },
  {
   "cell_type": "code",
   "execution_count": 43,
   "id": "b055fb46",
   "metadata": {},
   "outputs": [],
   "source": [
    "# Conclusions based on the correlation matrix:\n",
    "# Some correlations that stand out:\n",
    "    # Monthly_Premium_Auto <--> Customer_Lifetime_Value (0.4)\n",
    "    # Monthly_Premium_Auto <--> Total_Claim_Amount (0.63)\n",
    "    # total_claim_amount <--> Income (negative correlation -0.36)\n",
    "# The rest seems to be neutral\n",
    "# Regarding total_claim_amount it's interesting to study possibility\n",
    "# to predict with the use of Monthly_Premium_Auto and Income"
   ]
  },
  {
   "cell_type": "code",
   "execution_count": 44,
   "id": "d5f5f418",
   "metadata": {},
   "outputs": [],
   "source": [
    "# Continue Lab | Customer Analysis Round 4\n",
    "# - Drop one of the two features that show a high correlation between them (greater \n",
    "#   than 0.9). Write code for both the correlation matrix and for seaborn heatmap. \n",
    "#   If there is no pair of features that have a high correlation, then do not drop any \n",
    "#   features\n",
    "# nothing to drop her, because highest corr is 0.63"
   ]
  },
  {
   "cell_type": "markdown",
   "id": "af3e6604",
   "metadata": {},
   "source": [
    "# Start Lab | Customer Analysis Round 5"
   ]
  },
  {
   "cell_type": "code",
   "execution_count": 45,
   "id": "7746e411",
   "metadata": {},
   "outputs": [],
   "source": [
    "# Start Lab | Customer Analysis Round 5\n",
    "    # X-y split - remove de outliers\n",
    "    # Normalize (numerical).\n",
    "# I'll take Total_Claim_Amount as example"
   ]
  },
  {
   "cell_type": "code",
   "execution_count": 46,
   "id": "a47a4e1e",
   "metadata": {},
   "outputs": [],
   "source": [
    "# Monthly_Premium_Auto\n",
    "# sns.boxplot(x=customers['Monthly_Premium_Auto'])\n",
    "# plt.show()\n",
    "# sns.displot(customers['Monthly_Premium_Auto'])\n",
    "# plt.show()"
   ]
  },
  {
   "cell_type": "code",
   "execution_count": 47,
   "id": "fecc0ac5",
   "metadata": {},
   "outputs": [
    {
     "name": "stdout",
     "output_type": "stream",
     "text": [
      "Customers: (9134, 24)\n"
     ]
    }
   ],
   "source": [
    "print('Customers:', customers.shape)"
   ]
  },
  {
   "cell_type": "code",
   "execution_count": 48,
   "id": "a9f2d8da",
   "metadata": {},
   "outputs": [],
   "source": [
    "# Removing outliers Monthly_Premium_Auto\n",
    "# iqr = np.percentile(customers['Monthly_Premium_Auto'],75) - np.percentile(customers['Monthly_Premium_Auto'],25)\n",
    "# upper_limit = np.percentile(customers['Monthly_Premium_Auto'],75) + 1.5*iqr\n",
    "# lower_limit = np.percentile(customers['Monthly_Premium_Auto'],25) - 1.5*iqr\n",
    "# display(iqr, lower_limit, upper_limit)"
   ]
  },
  {
   "cell_type": "code",
   "execution_count": 49,
   "id": "9c1b1f04",
   "metadata": {},
   "outputs": [],
   "source": [
    "# Next line is to actually remove the outliers\n",
    "# customers = customers[(customers['Monthly_Premium_Auto']>lower_limit) & (customers['Monthly_Premium_Auto']<upper_limit)]\n",
    "# print('Customers without outliers in Monthly_Premium_Auto:', customers.shape)\n",
    "# sns.displot(customers['Monthly_Premium_Auto'])\n",
    "# plt.show()"
   ]
  },
  {
   "cell_type": "code",
   "execution_count": 50,
   "id": "6a5978d6",
   "metadata": {},
   "outputs": [],
   "source": [
    "# On closer inspection, however, these data do not provide a good normal \n",
    "# distribution. I try another: Total_Claim_Amount"
   ]
  },
  {
   "cell_type": "code",
   "execution_count": 54,
   "id": "a66cb6d5",
   "metadata": {},
   "outputs": [
    {
     "data": {
      "image/png": "[encoded data removed]",
      "text/plain": [
       "<Figure size 432x288 with 1 Axes>"
      ]
     },
     "metadata": {
      "needs_background": "light"
     },
     "output_type": "display_data"
    }
   ],
   "source": [
    "# Total_Claim_Amount\n",
    "sns.boxplot(x=customers['Total_Claim_Amount'])\n",
    "plt.show()\n",
    "# sns.displot(customers['Total_Claim_Amount'])\n",
    "# plt.show()"
   ]
  },
  {
   "cell_type": "code",
   "execution_count": 52,
   "id": "445b35e4",
   "metadata": {},
   "outputs": [
    {
     "data": {
      "text/plain": [
       "275.25659425"
      ]
     },
     "metadata": {},
     "output_type": "display_data"
    },
    {
     "data": {
      "text/plain": [
       "-140.62664687499995"
      ]
     },
     "metadata": {},
     "output_type": "display_data"
    },
    {
     "data": {
      "text/plain": [
       "960.3997301249999"
      ]
     },
     "metadata": {},
     "output_type": "display_data"
    }
   ],
   "source": [
    "# Removing outliers Total_Claim_Amount\n",
    "iqr = np.percentile(customers['Total_Claim_Amount'],75) - np.percentile(customers['Total_Claim_Amount'],25)\n",
    "upper_limit = np.percentile(customers['Total_Claim_Amount'],75) + 1.5*iqr\n",
    "lower_limit = np.percentile(customers['Total_Claim_Amount'],25) - 1.5*iqr\n",
    "display(iqr, lower_limit, upper_limit)"
   ]
  },
  {
   "cell_type": "code",
   "execution_count": 53,
   "id": "67f3fa1e",
   "metadata": {},
   "outputs": [
    {
     "name": "stdout",
     "output_type": "stream",
     "text": [
      "Customers without outliers in Total_Claim_Amount: (8681, 24)\n"
     ]
    },
    {
     "data": {
      "image/png": "[encoded data removed]",
      "text/plain": [
       "<Figure size 360x360 with 1 Axes>"
      ]
     },
     "metadata": {
      "needs_background": "light"
     },
     "output_type": "display_data"
    }
   ],
   "source": [
    "# Next line is to actually remove the outliers\n",
    "customers = customers[(customers['Total_Claim_Amount']>lower_limit) & (customers['Total_Claim_Amount']<upper_limit)]\n",
    "print('Customers without outliers in Total_Claim_Amount:', customers.shape)\n",
    "sns.displot(customers['Total_Claim_Amount'])\n",
    "plt.show()"
   ]
  },
  {
   "cell_type": "code",
   "execution_count": 65,
   "id": "ac2bb60c",
   "metadata": {},
   "outputs": [
    {
     "data": {
      "image/png": "[encoded data removed]",
      "text/plain": [
       "<Figure size 432x288 with 1 Axes>"
      ]
     },
     "metadata": {
      "needs_background": "light"
     },
     "output_type": "display_data"
    }
   ],
   "source": [
    "# Normalize Total_Claim_Amount\n",
    "import matplotlib.pyplot as plt\n",
    "# plt.scatter(x=customers['Total_Claim_Amount'], y=customers['Monthly_Premium_Auto'])\n",
    "# plt.show()\n",
    "sns.scatterplot(x=customers['Total_Claim_Amount'], y=customers['Monthly_Premium_Auto'])\n",
    "plt.show()"
   ]
  },
  {
   "cell_type": "code",
   "execution_count": 64,
   "id": "7a932d99",
   "metadata": {},
   "outputs": [],
   "source": [
    "# sns.pairplot(customers)\n",
    "# plt.show()"
   ]
  },
  {
   "cell_type": "code",
   "execution_count": 71,
   "id": "b4520aa4",
   "metadata": {},
   "outputs": [],
   "source": [
    "from sklearn.preprocessing import MinMaxScaler\n",
    "from sklearn.preprocessing import StandardScaler\n",
    "# remove target from the columns\n",
    "y = customers['Monthly_Premium_Auto']\n",
    "X = customers.drop(['Monthly_Premium_Auto'], axis=1)\n",
    "X_num = X.select_dtypes(include = np.number)\n",
    "X_cat = X.select_dtypes(include = object)"
   ]
  },
  {
   "cell_type": "code",
   "execution_count": 75,
   "id": "7ff838d1",
   "metadata": {},
   "outputs": [],
   "source": [
    "# X_num  # column is out"
   ]
  },
  {
   "cell_type": "code",
   "execution_count": 79,
   "id": "656ab283",
   "metadata": {},
   "outputs": [
    {
     "name": "stdout",
     "output_type": "stream",
     "text": [
      "(8681, 7)\n"
     ]
    },
    {
     "data": {
      "text/html": [
       "<div>\n",
       "<style scoped>\n",
       "    .dataframe tbody tr th:only-of-type {\n",
       "        vertical-align: middle;\n",
       "    }\n",
       "\n",
       "    .dataframe tbody tr th {\n",
       "        vertical-align: top;\n",
       "    }\n",
       "\n",
       "    .dataframe thead th {\n",
       "        text-align: right;\n",
       "    }\n",
       "</style>\n",
       "<table border=\"1\" class=\"dataframe\">\n",
       "  <thead>\n",
       "    <tr style=\"text-align: right;\">\n",
       "      <th></th>\n",
       "      <th>Customer_Lifetime_Value</th>\n",
       "      <th>Income</th>\n",
       "      <th>Months_Since_Last_Claim</th>\n",
       "      <th>Months_Since_Policy_Inception</th>\n",
       "      <th>Number_of_Open_Complaints</th>\n",
       "      <th>Number_of_Policies</th>\n",
       "      <th>Total_Claim_Amount</th>\n",
       "    </tr>\n",
       "  </thead>\n",
       "  <tbody>\n",
       "    <tr>\n",
       "      <th>0</th>\n",
       "      <td>0.013112</td>\n",
       "      <td>0.562847</td>\n",
       "      <td>0.914286</td>\n",
       "      <td>0.050505</td>\n",
       "      <td>0.0</td>\n",
       "      <td>0.000</td>\n",
       "      <td>0.400735</td>\n",
       "    </tr>\n",
       "    <tr>\n",
       "      <th>1</th>\n",
       "      <td>0.166483</td>\n",
       "      <td>0.487763</td>\n",
       "      <td>0.514286</td>\n",
       "      <td>0.383838</td>\n",
       "      <td>0.0</td>\n",
       "      <td>0.125</td>\n",
       "      <td>0.589962</td>\n",
       "    </tr>\n",
       "    <tr>\n",
       "      <th>2</th>\n",
       "      <td>0.087076</td>\n",
       "      <td>0.000000</td>\n",
       "      <td>0.514286</td>\n",
       "      <td>0.656566</td>\n",
       "      <td>0.0</td>\n",
       "      <td>0.750</td>\n",
       "      <td>0.551847</td>\n",
       "    </tr>\n",
       "    <tr>\n",
       "      <th>3</th>\n",
       "      <td>0.013872</td>\n",
       "      <td>0.438443</td>\n",
       "      <td>0.342857</td>\n",
       "      <td>0.444444</td>\n",
       "      <td>0.0</td>\n",
       "      <td>0.000</td>\n",
       "      <td>0.143781</td>\n",
       "    </tr>\n",
       "    <tr>\n",
       "      <th>4</th>\n",
       "      <td>0.096324</td>\n",
       "      <td>0.629140</td>\n",
       "      <td>0.400000</td>\n",
       "      <td>0.949495</td>\n",
       "      <td>0.0</td>\n",
       "      <td>0.125</td>\n",
       "      <td>0.165918</td>\n",
       "    </tr>\n",
       "    <tr>\n",
       "      <th>...</th>\n",
       "      <td>...</td>\n",
       "      <td>...</td>\n",
       "      <td>...</td>\n",
       "      <td>...</td>\n",
       "      <td>...</td>\n",
       "      <td>...</td>\n",
       "      <td>...</td>\n",
       "    </tr>\n",
       "    <tr>\n",
       "      <th>8676</th>\n",
       "      <td>0.325833</td>\n",
       "      <td>0.719547</td>\n",
       "      <td>0.514286</td>\n",
       "      <td>0.898990</td>\n",
       "      <td>0.0</td>\n",
       "      <td>0.125</td>\n",
       "      <td>0.206388</td>\n",
       "    </tr>\n",
       "    <tr>\n",
       "      <th>8677</th>\n",
       "      <td>0.018157</td>\n",
       "      <td>0.216081</td>\n",
       "      <td>0.400000</td>\n",
       "      <td>0.282828</td>\n",
       "      <td>0.0</td>\n",
       "      <td>0.000</td>\n",
       "      <td>0.394890</td>\n",
       "    </tr>\n",
       "    <tr>\n",
       "      <th>8678</th>\n",
       "      <td>0.094924</td>\n",
       "      <td>0.000000</td>\n",
       "      <td>0.257143</td>\n",
       "      <td>0.373737</td>\n",
       "      <td>0.6</td>\n",
       "      <td>0.125</td>\n",
       "      <td>0.823617</td>\n",
       "    </tr>\n",
       "    <tr>\n",
       "      <th>8679</th>\n",
       "      <td>0.085237</td>\n",
       "      <td>0.219452</td>\n",
       "      <td>0.971429</td>\n",
       "      <td>0.030303</td>\n",
       "      <td>0.0</td>\n",
       "      <td>0.250</td>\n",
       "      <td>0.719885</td>\n",
       "    </tr>\n",
       "    <tr>\n",
       "      <th>8680</th>\n",
       "      <td>0.010814</td>\n",
       "      <td>0.000000</td>\n",
       "      <td>0.085714</td>\n",
       "      <td>0.909091</td>\n",
       "      <td>0.0</td>\n",
       "      <td>0.000</td>\n",
       "      <td>0.384890</td>\n",
       "    </tr>\n",
       "  </tbody>\n",
       "</table>\n",
       "<p>8681 rows × 7 columns</p>\n",
       "</div>"
      ],
      "text/plain": [
       "      Customer_Lifetime_Value    Income  Months_Since_Last_Claim  \\\n",
       "0                    0.013112  0.562847                 0.914286   \n",
       "1                    0.166483  0.487763                 0.514286   \n",
       "2                    0.087076  0.000000                 0.514286   \n",
       "3                    0.013872  0.438443                 0.342857   \n",
       "4                    0.096324  0.629140                 0.400000   \n",
       "...                       ...       ...                      ...   \n",
       "8676                 0.325833  0.719547                 0.514286   \n",
       "8677                 0.018157  0.216081                 0.400000   \n",
       "8678                 0.094924  0.000000                 0.257143   \n",
       "8679                 0.085237  0.219452                 0.971429   \n",
       "8680                 0.010814  0.000000                 0.085714   \n",
       "\n",
       "      Months_Since_Policy_Inception  Number_of_Open_Complaints  \\\n",
       "0                          0.050505                        0.0   \n",
       "1                          0.383838                        0.0   \n",
       "2                          0.656566                        0.0   \n",
       "3                          0.444444                        0.0   \n",
       "4                          0.949495                        0.0   \n",
       "...                             ...                        ...   \n",
       "8676                       0.898990                        0.0   \n",
       "8677                       0.282828                        0.0   \n",
       "8678                       0.373737                        0.6   \n",
       "8679                       0.030303                        0.0   \n",
       "8680                       0.909091                        0.0   \n",
       "\n",
       "      Number_of_Policies  Total_Claim_Amount  \n",
       "0                  0.000            0.400735  \n",
       "1                  0.125            0.589962  \n",
       "2                  0.750            0.551847  \n",
       "3                  0.000            0.143781  \n",
       "4                  0.125            0.165918  \n",
       "...                  ...                 ...  \n",
       "8676               0.125            0.206388  \n",
       "8677               0.000            0.394890  \n",
       "8678               0.125            0.823617  \n",
       "8679               0.250            0.719885  \n",
       "8680               0.000            0.384890  \n",
       "\n",
       "[8681 rows x 7 columns]"
      ]
     },
     "execution_count": 79,
     "metadata": {},
     "output_type": "execute_result"
    }
   ],
   "source": [
    "# Normalizing data: make data range from 0 - 1, instead of from min to max\n",
    "transform = MinMaxScaler().fit(X_num)\n",
    "x_normalized = transformer.transform(X_num)\n",
    "print(x_normalized.shape)\n",
    "pd.DataFrame(x_normalized, columns=X_num.columns)"
   ]
  },
  {
   "cell_type": "code",
   "execution_count": 77,
   "id": "539b78af",
   "metadata": {},
   "outputs": [
    {
     "name": "stdout",
     "output_type": "stream",
     "text": [
      "(8681, 7)\n"
     ]
    },
    {
     "data": {
      "text/html": [
       "<div>\n",
       "<style scoped>\n",
       "    .dataframe tbody tr th:only-of-type {\n",
       "        vertical-align: middle;\n",
       "    }\n",
       "\n",
       "    .dataframe tbody tr th {\n",
       "        vertical-align: top;\n",
       "    }\n",
       "\n",
       "    .dataframe thead th {\n",
       "        text-align: right;\n",
       "    }\n",
       "</style>\n",
       "<table border=\"1\" class=\"dataframe\">\n",
       "  <thead>\n",
       "    <tr style=\"text-align: right;\">\n",
       "      <th></th>\n",
       "      <th>Customer_Lifetime_Value</th>\n",
       "      <th>Income</th>\n",
       "      <th>Months_Since_Last_Claim</th>\n",
       "      <th>Months_Since_Policy_Inception</th>\n",
       "      <th>Number_of_Open_Complaints</th>\n",
       "      <th>Number_of_Policies</th>\n",
       "      <th>Total_Claim_Amount</th>\n",
       "    </tr>\n",
       "  </thead>\n",
       "  <tbody>\n",
       "    <tr>\n",
       "      <th>0</th>\n",
       "      <td>-0.772891</td>\n",
       "      <td>0.580587</td>\n",
       "      <td>1.684444</td>\n",
       "      <td>-1.542542</td>\n",
       "      <td>-0.422343</td>\n",
       "      <td>-0.821923</td>\n",
       "      <td>-0.024737</td>\n",
       "    </tr>\n",
       "    <tr>\n",
       "      <th>1</th>\n",
       "      <td>0.814984</td>\n",
       "      <td>0.332987</td>\n",
       "      <td>0.294401</td>\n",
       "      <td>-0.357794</td>\n",
       "      <td>-0.422343</td>\n",
       "      <td>-0.402260</td>\n",
       "      <td>0.835515</td>\n",
       "    </tr>\n",
       "    <tr>\n",
       "      <th>2</th>\n",
       "      <td>-0.007125</td>\n",
       "      <td>-1.275476</td>\n",
       "      <td>0.294401</td>\n",
       "      <td>0.611544</td>\n",
       "      <td>-0.422343</td>\n",
       "      <td>1.696056</td>\n",
       "      <td>0.662240</td>\n",
       "    </tr>\n",
       "    <tr>\n",
       "      <th>3</th>\n",
       "      <td>-0.765022</td>\n",
       "      <td>0.170350</td>\n",
       "      <td>-0.301332</td>\n",
       "      <td>-0.142386</td>\n",
       "      <td>-0.422343</td>\n",
       "      <td>-0.821923</td>\n",
       "      <td>-1.192887</td>\n",
       "    </tr>\n",
       "    <tr>\n",
       "      <th>4</th>\n",
       "      <td>0.088618</td>\n",
       "      <td>0.799196</td>\n",
       "      <td>-0.102754</td>\n",
       "      <td>1.652686</td>\n",
       "      <td>-0.422343</td>\n",
       "      <td>-0.402260</td>\n",
       "      <td>-1.092248</td>\n",
       "    </tr>\n",
       "    <tr>\n",
       "      <th>...</th>\n",
       "      <td>...</td>\n",
       "      <td>...</td>\n",
       "      <td>...</td>\n",
       "      <td>...</td>\n",
       "      <td>...</td>\n",
       "      <td>...</td>\n",
       "      <td>...</td>\n",
       "    </tr>\n",
       "    <tr>\n",
       "      <th>8676</th>\n",
       "      <td>2.464757</td>\n",
       "      <td>1.097326</td>\n",
       "      <td>0.294401</td>\n",
       "      <td>1.473179</td>\n",
       "      <td>-0.422343</td>\n",
       "      <td>-0.402260</td>\n",
       "      <td>-0.908266</td>\n",
       "    </tr>\n",
       "    <tr>\n",
       "      <th>8677</th>\n",
       "      <td>-0.720663</td>\n",
       "      <td>-0.562920</td>\n",
       "      <td>-0.102754</td>\n",
       "      <td>-0.716809</td>\n",
       "      <td>-0.422343</td>\n",
       "      <td>-0.821923</td>\n",
       "      <td>-0.051309</td>\n",
       "    </tr>\n",
       "    <tr>\n",
       "      <th>8678</th>\n",
       "      <td>0.074125</td>\n",
       "      <td>-1.275476</td>\n",
       "      <td>-0.599198</td>\n",
       "      <td>-0.393696</td>\n",
       "      <td>2.863906</td>\n",
       "      <td>-0.402260</td>\n",
       "      <td>1.897744</td>\n",
       "    </tr>\n",
       "    <tr>\n",
       "      <th>8679</th>\n",
       "      <td>-0.026169</td>\n",
       "      <td>-0.551805</td>\n",
       "      <td>1.883022</td>\n",
       "      <td>-1.614344</td>\n",
       "      <td>-0.422343</td>\n",
       "      <td>0.017403</td>\n",
       "      <td>1.426161</td>\n",
       "    </tr>\n",
       "    <tr>\n",
       "      <th>8680</th>\n",
       "      <td>-0.796682</td>\n",
       "      <td>-1.275476</td>\n",
       "      <td>-1.194931</td>\n",
       "      <td>1.509080</td>\n",
       "      <td>-0.422343</td>\n",
       "      <td>-0.821923</td>\n",
       "      <td>-0.096769</td>\n",
       "    </tr>\n",
       "  </tbody>\n",
       "</table>\n",
       "<p>8681 rows × 7 columns</p>\n",
       "</div>"
      ],
      "text/plain": [
       "      Customer_Lifetime_Value    Income  Months_Since_Last_Claim  \\\n",
       "0                   -0.772891  0.580587                 1.684444   \n",
       "1                    0.814984  0.332987                 0.294401   \n",
       "2                   -0.007125 -1.275476                 0.294401   \n",
       "3                   -0.765022  0.170350                -0.301332   \n",
       "4                    0.088618  0.799196                -0.102754   \n",
       "...                       ...       ...                      ...   \n",
       "8676                 2.464757  1.097326                 0.294401   \n",
       "8677                -0.720663 -0.562920                -0.102754   \n",
       "8678                 0.074125 -1.275476                -0.599198   \n",
       "8679                -0.026169 -0.551805                 1.883022   \n",
       "8680                -0.796682 -1.275476                -1.194931   \n",
       "\n",
       "      Months_Since_Policy_Inception  Number_of_Open_Complaints  \\\n",
       "0                         -1.542542                  -0.422343   \n",
       "1                         -0.357794                  -0.422343   \n",
       "2                          0.611544                  -0.422343   \n",
       "3                         -0.142386                  -0.422343   \n",
       "4                          1.652686                  -0.422343   \n",
       "...                             ...                        ...   \n",
       "8676                       1.473179                  -0.422343   \n",
       "8677                      -0.716809                  -0.422343   \n",
       "8678                      -0.393696                   2.863906   \n",
       "8679                      -1.614344                  -0.422343   \n",
       "8680                       1.509080                  -0.422343   \n",
       "\n",
       "      Number_of_Policies  Total_Claim_Amount  \n",
       "0              -0.821923           -0.024737  \n",
       "1              -0.402260            0.835515  \n",
       "2               1.696056            0.662240  \n",
       "3              -0.821923           -1.192887  \n",
       "4              -0.402260           -1.092248  \n",
       "...                  ...                 ...  \n",
       "8676           -0.402260           -0.908266  \n",
       "8677           -0.821923           -0.051309  \n",
       "8678           -0.402260            1.897744  \n",
       "8679            0.017403            1.426161  \n",
       "8680           -0.821923           -0.096769  \n",
       "\n",
       "[8681 rows x 7 columns]"
      ]
     },
     "execution_count": 77,
     "metadata": {},
     "output_type": "execute_result"
    }
   ],
   "source": [
    "# scaling standard scaler: make data normal distributed with mean=0 and std=1\n",
    "transformer = StandardScaler().fit(X_num)\n",
    "x_standardized = transformer.transform(X_num)\n",
    "print(x_standardized.shape)\n",
    "pd.DataFrame(x_standardized, columns=X_num.columns)"
   ]
  },
  {
   "cell_type": "code",
   "execution_count": null,
   "id": "b413a8b9",
   "metadata": {},
   "outputs": [],
   "source": []
  }
 ],
 "metadata": {
  "kernelspec": {
   "display_name": "Python 3",
   "language": "python",
   "name": "python3"
  },
  "language_info": {
   "codemirror_mode": {
    "name": "ipython",
    "version": 3
   },
   "file_extension": ".py",
   "mimetype": "text/x-python",
   "name": "python",
   "nbconvert_exporter": "python",
   "pygments_lexer": "ipython3",
   "version": "3.8.8"
  }
 },
 "nbformat": 4,
 "nbformat_minor": 5
}
